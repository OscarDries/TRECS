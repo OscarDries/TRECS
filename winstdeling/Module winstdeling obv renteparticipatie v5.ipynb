{
 "cells": [
  {
   "cell_type": "markdown",
   "id": "7f0cf1a2",
   "metadata": {},
   "source": [
    "<div class = \"row\">\n",
    "    <div class = \"colums\">\n",
    "        <img src=\"..\\trecslogo.png\" align=\"left\" alt=\"Drawing\" width =\"60\"/>    \n",
    "    </div>\n",
    "    <div class = \"colums\">\n",
    "        <img src=\"..\\asrlogo.png\" align=\"right\" alt=\"Drawing\" width =\"175\"/>\n",
    "    </div>    \n",
    "</div>"
   ]
  },
  {
   "cell_type": "markdown",
   "id": "d9dd68a8",
   "metadata": {
    "toc": true
   },
   "source": [
    "<h1>Table of Contents<span class=\"tocSkip\"></span></h1>\n",
    "<div class=\"toc\"><ul class=\"toc-item\"><li><span><a href=\"#Algemeen\" data-toc-modified-id=\"Algemeen-1\"><span class=\"toc-item-num\">1&nbsp;&nbsp;</span>Algemeen</a></span><ul class=\"toc-item\"><li><span><a href=\"#Import-en-instellingen\" data-toc-modified-id=\"Import-en-instellingen-1.1\"><span class=\"toc-item-num\">1.1&nbsp;&nbsp;</span>Import en instellingen</a></span></li></ul></li><li><span><a href=\"#Importeer-data\" data-toc-modified-id=\"Importeer-data-2\"><span class=\"toc-item-num\">2&nbsp;&nbsp;</span>Importeer data</a></span><ul class=\"toc-item\"><li><span><a href=\"#Liability-parameters\" data-toc-modified-id=\"Liability-parameters-2.1\"><span class=\"toc-item-num\">2.1&nbsp;&nbsp;</span>Liability parameters</a></span></li><li><span><a href=\"#Liability-kasstromen-en-kasstroom-indicator\" data-toc-modified-id=\"Liability-kasstromen-en-kasstroom-indicator-2.2\"><span class=\"toc-item-num\">2.2&nbsp;&nbsp;</span>Liability kasstromen en kasstroom indicator</a></span></li><li><span><a href=\"#Historische-rentes\" data-toc-modified-id=\"Historische-rentes-2.3\"><span class=\"toc-item-num\">2.3&nbsp;&nbsp;</span>Historische rentes</a></span></li><li><span><a href=\"#Rentecurves\" data-toc-modified-id=\"Rentecurves-2.4\"><span class=\"toc-item-num\">2.4&nbsp;&nbsp;</span>Rentecurves</a></span></li><li><span><a href=\"#ESG-data\" data-toc-modified-id=\"ESG-data-2.5\"><span class=\"toc-item-num\">2.5&nbsp;&nbsp;</span>ESG data</a></span></li></ul></li><li><span><a href=\"#Databewerking-op-rentes\" data-toc-modified-id=\"Databewerking-op-rentes-3\"><span class=\"toc-item-num\">3&nbsp;&nbsp;</span>Databewerking op rentes</a></span><ul class=\"toc-item\"><li><span><a href=\"#Referentie-rente-in-simulatie\" data-toc-modified-id=\"Referentie-rente-in-simulatie-3.1\"><span class=\"toc-item-num\">3.1&nbsp;&nbsp;</span>Referentie rente in simulatie</a></span><ul class=\"toc-item\"><li><span><a href=\"#Forward-rente-gebaseerd-op-Staat\" data-toc-modified-id=\"Forward-rente-gebaseerd-op-Staat-3.1.1\"><span class=\"toc-item-num\">3.1.1&nbsp;&nbsp;</span>Forward rente gebaseerd op Staat</a></span></li><li><span><a href=\"#Forward-rente-gebaseerd-op-swap\" data-toc-modified-id=\"Forward-rente-gebaseerd-op-swap-3.1.2\"><span class=\"toc-item-num\">3.1.2&nbsp;&nbsp;</span>Forward rente gebaseerd op swap</a></span></li><li><span><a href=\"#Solvency-2-par-rente-in-simulatie\" data-toc-modified-id=\"Solvency-2-par-rente-in-simulatie-3.1.3\"><span class=\"toc-item-num\">3.1.3&nbsp;&nbsp;</span>Solvency 2 par rente in simulatie</a></span></li><li><span><a href=\"#Referentie-rente-in-simulatie\" data-toc-modified-id=\"Referentie-rente-in-simulatie-3.1.4\"><span class=\"toc-item-num\">3.1.4&nbsp;&nbsp;</span>Referentie rente in simulatie</a></span></li></ul></li><li><span><a href=\"#Discountcurve-inclusief-VA\" data-toc-modified-id=\"Discountcurve-inclusief-VA-3.2\"><span class=\"toc-item-num\">3.2&nbsp;&nbsp;</span>Discountcurve inclusief VA</a></span></li><li><span><a href=\"#Cash-rendement-in-simulatie\" data-toc-modified-id=\"Cash-rendement-in-simulatie-3.3\"><span class=\"toc-item-num\">3.3&nbsp;&nbsp;</span>Cash rendement in simulatie</a></span></li></ul></li><li><span><a href=\"#Databewerking-op-kasstromen\" data-toc-modified-id=\"Databewerking-op-kasstromen-4\"><span class=\"toc-item-num\">4&nbsp;&nbsp;</span>Databewerking op kasstromen</a></span><ul class=\"toc-item\"><li><span><a href=\"#Bepaal-premie-kasstromen\" data-toc-modified-id=\"Bepaal-premie-kasstromen-4.1\"><span class=\"toc-item-num\">4.1&nbsp;&nbsp;</span>Bepaal premie kasstromen</a></span></li><li><span><a href=\"#Bepaal-uitkering-kasstromen\" data-toc-modified-id=\"Bepaal-uitkering-kasstromen-4.2\"><span class=\"toc-item-num\">4.2&nbsp;&nbsp;</span>Bepaal uitkering kasstromen</a></span></li></ul></li><li><span><a href=\"#Methodiek-winstdeling\" data-toc-modified-id=\"Methodiek-winstdeling-5\"><span class=\"toc-item-num\">5&nbsp;&nbsp;</span>Methodiek winstdeling</a></span><ul class=\"toc-item\"><li><span><a href=\"#FSTRAD\" data-toc-modified-id=\"FSTRAD-5.1\"><span class=\"toc-item-num\">5.1&nbsp;&nbsp;</span>FSTRAD</a></span><ul class=\"toc-item\"><li><span><a href=\"#Winstdeling-zonder-deferred-loss-via-cash\" data-toc-modified-id=\"Winstdeling-zonder-deferred-loss-via-cash-5.1.1\"><span class=\"toc-item-num\">5.1.1&nbsp;&nbsp;</span>Winstdeling zonder deferred loss via cash</a></span></li><li><span><a href=\"#Winstdeling-zonder-deferred-loss-via-verhoging-voorziening\" data-toc-modified-id=\"Winstdeling-zonder-deferred-loss-via-verhoging-voorziening-5.1.2\"><span class=\"toc-item-num\">5.1.2&nbsp;&nbsp;</span>Winstdeling zonder deferred loss via verhoging voorziening</a></span></li><li><span><a href=\"#Winstdeling-met-deferred-loss-via-cash\" data-toc-modified-id=\"Winstdeling-met-deferred-loss-via-cash-5.1.3\"><span class=\"toc-item-num\">5.1.3&nbsp;&nbsp;</span>Winstdeling met deferred loss via cash</a></span></li><li><span><a href=\"#Winstdeling-met-deferred-loss-via-verhoging-voorziening\" data-toc-modified-id=\"Winstdeling-met-deferred-loss-via-verhoging-voorziening-5.1.4\"><span class=\"toc-item-num\">5.1.4&nbsp;&nbsp;</span>Winstdeling met deferred loss via verhoging voorziening</a></span></li></ul></li><li><span><a href=\"#FSFSPD\" data-toc-modified-id=\"FSFSPD-5.2\"><span class=\"toc-item-num\">5.2&nbsp;&nbsp;</span>FSFSPD</a></span><ul class=\"toc-item\"><li><span><a href=\"#Winstdeling-zonder-deferred-loss-via-cash\" data-toc-modified-id=\"Winstdeling-zonder-deferred-loss-via-cash-5.2.1\"><span class=\"toc-item-num\">5.2.1&nbsp;&nbsp;</span>Winstdeling zonder deferred loss via cash</a></span></li><li><span><a href=\"#Winstdeling-zonder-deferred-loss-via-verhoging-voorziening\" data-toc-modified-id=\"Winstdeling-zonder-deferred-loss-via-verhoging-voorziening-5.2.2\"><span class=\"toc-item-num\">5.2.2&nbsp;&nbsp;</span>Winstdeling zonder deferred loss via verhoging voorziening</a></span></li><li><span><a href=\"#Winstdeling-met-deferred-loss-via-cash\" data-toc-modified-id=\"Winstdeling-met-deferred-loss-via-cash-5.2.3\"><span class=\"toc-item-num\">5.2.3&nbsp;&nbsp;</span>Winstdeling met deferred loss via cash</a></span></li><li><span><a href=\"#Winstdeling-met-deferred-loss-via-verhoging-voorziening\" data-toc-modified-id=\"Winstdeling-met-deferred-loss-via-verhoging-voorziening-5.2.4\"><span class=\"toc-item-num\">5.2.4&nbsp;&nbsp;</span>Winstdeling met deferred loss via verhoging voorziening</a></span></li></ul></li><li><span><a href=\"#Rentestandskorting\" data-toc-modified-id=\"Rentestandskorting-5.3\"><span class=\"toc-item-num\">5.3&nbsp;&nbsp;</span>Rentestandskorting</a></span></li></ul></li><li><span><a href=\"#Modellering\" data-toc-modified-id=\"Modellering-6\"><span class=\"toc-item-num\">6&nbsp;&nbsp;</span>Modellering</a></span></li></ul></div>"
   ]
  },
  {
   "cell_type": "markdown",
   "id": "db45fa5e",
   "metadata": {},
   "source": [
    "# RENTEPARTICIPERENDE POLISSEN"
   ]
  },
  {
   "cell_type": "markdown",
   "id": "28c0b93f",
   "metadata": {},
   "source": [
    "## Algemeen"
   ]
  },
  {
   "cell_type": "markdown",
   "id": "dc6de8bc",
   "metadata": {},
   "source": [
    "### Import en instellingen"
   ]
  },
  {
   "cell_type": "code",
   "execution_count": 1,
   "id": "24b7aea5",
   "metadata": {},
   "outputs": [],
   "source": [
    "import pandas as pd\n",
    "import numpy as np\n",
    "from matplotlib import pyplot as plt"
   ]
  },
  {
   "cell_type": "markdown",
   "id": "b6408bb5",
   "metadata": {},
   "source": [
    "Links uitlijnen tabellen"
   ]
  },
  {
   "cell_type": "code",
   "execution_count": 2,
   "id": "7b67d00e",
   "metadata": {},
   "outputs": [
    {
     "data": {
      "text/html": [
       "<style>\n",
       "    table {\n",
       "        display: inline-block\n",
       "    }\n",
       "</style>\n"
      ],
      "text/plain": [
       "<IPython.core.display.HTML object>"
      ]
     },
     "metadata": {},
     "output_type": "display_data"
    }
   ],
   "source": [
    "%%html\n",
    "<style>\n",
    "    table {\n",
    "        display: inline-block\n",
    "    }\n",
    "</style>"
   ]
  },
  {
   "cell_type": "markdown",
   "id": "194e3ee1",
   "metadata": {},
   "source": [
    "Bij printen van een dataframe wordt slechts een beperkt aantal rijen getoond."
   ]
  },
  {
   "cell_type": "code",
   "execution_count": 3,
   "id": "0955397b",
   "metadata": {},
   "outputs": [],
   "source": [
    "pd.set_option('display.max_rows', 10)"
   ]
  },
  {
   "cell_type": "markdown",
   "id": "a1e04325",
   "metadata": {},
   "source": [
    "## Importeer data"
   ]
  },
  {
   "cell_type": "markdown",
   "id": "188b96da",
   "metadata": {},
   "source": [
    "### Liability parameters"
   ]
  },
  {
   "cell_type": "code",
   "execution_count": 4,
   "id": "21b3948f",
   "metadata": {},
   "outputs": [
    {
     "ename": "FileNotFoundError",
     "evalue": "[Errno 2] No such file or directory: 'dataLiabilityParameters.xlsx'",
     "output_type": "error",
     "traceback": [
      "\u001b[1;31m---------------------------------------------------------------------------\u001b[0m",
      "\u001b[1;31mFileNotFoundError\u001b[0m                         Traceback (most recent call last)",
      "Input \u001b[1;32mIn [4]\u001b[0m, in \u001b[0;36m<cell line: 3>\u001b[1;34m()\u001b[0m\n\u001b[0;32m      1\u001b[0m col_list \u001b[38;5;241m=\u001b[39m [\u001b[38;5;124m'\u001b[39m\u001b[38;5;124mLIAB_NAME\u001b[39m\u001b[38;5;124m'\u001b[39m, \u001b[38;5;124m'\u001b[39m\u001b[38;5;124mALPHA_PC\u001b[39m\u001b[38;5;124m'\u001b[39m, \u001b[38;5;124m'\u001b[39m\u001b[38;5;124mBETA_PC\u001b[39m\u001b[38;5;124m'\u001b[39m, \u001b[38;5;124m'\u001b[39m\u001b[38;5;124mCAP_PC\u001b[39m\u001b[38;5;124m'\u001b[39m, \u001b[38;5;124m'\u001b[39m\u001b[38;5;124mG_PC\u001b[39m\u001b[38;5;124m'\u001b[39m, \u001b[38;5;124m'\u001b[39m\u001b[38;5;124mM_PC\u001b[39m\u001b[38;5;124m'\u001b[39m, \u001b[38;5;124m'\u001b[39m\u001b[38;5;124mPS_METHOD\u001b[39m\u001b[38;5;124m'\u001b[39m, \u001b[38;5;124m'\u001b[39m\u001b[38;5;124mPS_REFERENCE\u001b[39m\u001b[38;5;124m'\u001b[39m, \u001b[38;5;124m'\u001b[39m\u001b[38;5;124mPS_BENCH_TERM\u001b[39m\u001b[38;5;124m'\u001b[39m, \\\n\u001b[0;32m      2\u001b[0m            \u001b[38;5;124m'\u001b[39m\u001b[38;5;124mPS_AV_PERIOD\u001b[39m\u001b[38;5;124m'\u001b[39m, \u001b[38;5;124m'\u001b[39m\u001b[38;5;124mPS_HIST_INDEX\u001b[39m\u001b[38;5;124m'\u001b[39m, \u001b[38;5;124m'\u001b[39m\u001b[38;5;124mECONOMY\u001b[39m\u001b[38;5;124m'\u001b[39m, \u001b[38;5;124m'\u001b[39m\u001b[38;5;124mI_DEFLOSS_RESERVE\u001b[39m\u001b[38;5;124m'\u001b[39m, \u001b[38;5;124m'\u001b[39m\u001b[38;5;124mDEFLOSS_IND\u001b[39m\u001b[38;5;124m'\u001b[39m, \u001b[38;5;124m'\u001b[39m\u001b[38;5;124mProduct\u001b[39m\u001b[38;5;124m'\u001b[39m]\n\u001b[1;32m----> 3\u001b[0m df_liabilityParameters \u001b[38;5;241m=\u001b[39m \u001b[43mpd\u001b[49m\u001b[38;5;241;43m.\u001b[39;49m\u001b[43mread_excel\u001b[49m\u001b[43m(\u001b[49m\u001b[38;5;124;43mr\u001b[39;49m\u001b[38;5;124;43m\"\u001b[39;49m\u001b[38;5;124;43mdataLiabilityParameters.xlsx\u001b[39;49m\u001b[38;5;124;43m\"\u001b[39;49m\u001b[43m,\u001b[49m\u001b[43m \u001b[49m\u001b[43musecols\u001b[49m\u001b[43m \u001b[49m\u001b[38;5;241;43m=\u001b[39;49m\u001b[43m \u001b[49m\u001b[43mcol_list\u001b[49m\u001b[43m)\u001b[49m\n\u001b[0;32m      4\u001b[0m df_liabilityParameters\n",
      "File \u001b[1;32m~\\AppData\\Local\\Programs\\Python\\Python310\\lib\\site-packages\\pandas\\util\\_decorators.py:311\u001b[0m, in \u001b[0;36mdeprecate_nonkeyword_arguments.<locals>.decorate.<locals>.wrapper\u001b[1;34m(*args, **kwargs)\u001b[0m\n\u001b[0;32m    305\u001b[0m \u001b[38;5;28;01mif\u001b[39;00m \u001b[38;5;28mlen\u001b[39m(args) \u001b[38;5;241m>\u001b[39m num_allow_args:\n\u001b[0;32m    306\u001b[0m     warnings\u001b[38;5;241m.\u001b[39mwarn(\n\u001b[0;32m    307\u001b[0m         msg\u001b[38;5;241m.\u001b[39mformat(arguments\u001b[38;5;241m=\u001b[39marguments),\n\u001b[0;32m    308\u001b[0m         \u001b[38;5;167;01mFutureWarning\u001b[39;00m,\n\u001b[0;32m    309\u001b[0m         stacklevel\u001b[38;5;241m=\u001b[39mstacklevel,\n\u001b[0;32m    310\u001b[0m     )\n\u001b[1;32m--> 311\u001b[0m \u001b[38;5;28;01mreturn\u001b[39;00m func(\u001b[38;5;241m*\u001b[39margs, \u001b[38;5;241m*\u001b[39m\u001b[38;5;241m*\u001b[39mkwargs)\n",
      "File \u001b[1;32m~\\AppData\\Local\\Programs\\Python\\Python310\\lib\\site-packages\\pandas\\io\\excel\\_base.py:457\u001b[0m, in \u001b[0;36mread_excel\u001b[1;34m(io, sheet_name, header, names, index_col, usecols, squeeze, dtype, engine, converters, true_values, false_values, skiprows, nrows, na_values, keep_default_na, na_filter, verbose, parse_dates, date_parser, thousands, decimal, comment, skipfooter, convert_float, mangle_dupe_cols, storage_options)\u001b[0m\n\u001b[0;32m    455\u001b[0m \u001b[38;5;28;01mif\u001b[39;00m \u001b[38;5;129;01mnot\u001b[39;00m \u001b[38;5;28misinstance\u001b[39m(io, ExcelFile):\n\u001b[0;32m    456\u001b[0m     should_close \u001b[38;5;241m=\u001b[39m \u001b[38;5;28;01mTrue\u001b[39;00m\n\u001b[1;32m--> 457\u001b[0m     io \u001b[38;5;241m=\u001b[39m \u001b[43mExcelFile\u001b[49m\u001b[43m(\u001b[49m\u001b[43mio\u001b[49m\u001b[43m,\u001b[49m\u001b[43m \u001b[49m\u001b[43mstorage_options\u001b[49m\u001b[38;5;241;43m=\u001b[39;49m\u001b[43mstorage_options\u001b[49m\u001b[43m,\u001b[49m\u001b[43m \u001b[49m\u001b[43mengine\u001b[49m\u001b[38;5;241;43m=\u001b[39;49m\u001b[43mengine\u001b[49m\u001b[43m)\u001b[49m\n\u001b[0;32m    458\u001b[0m \u001b[38;5;28;01melif\u001b[39;00m engine \u001b[38;5;129;01mand\u001b[39;00m engine \u001b[38;5;241m!=\u001b[39m io\u001b[38;5;241m.\u001b[39mengine:\n\u001b[0;32m    459\u001b[0m     \u001b[38;5;28;01mraise\u001b[39;00m \u001b[38;5;167;01mValueError\u001b[39;00m(\n\u001b[0;32m    460\u001b[0m         \u001b[38;5;124m\"\u001b[39m\u001b[38;5;124mEngine should not be specified when passing \u001b[39m\u001b[38;5;124m\"\u001b[39m\n\u001b[0;32m    461\u001b[0m         \u001b[38;5;124m\"\u001b[39m\u001b[38;5;124man ExcelFile - ExcelFile already has the engine set\u001b[39m\u001b[38;5;124m\"\u001b[39m\n\u001b[0;32m    462\u001b[0m     )\n",
      "File \u001b[1;32m~\\AppData\\Local\\Programs\\Python\\Python310\\lib\\site-packages\\pandas\\io\\excel\\_base.py:1376\u001b[0m, in \u001b[0;36mExcelFile.__init__\u001b[1;34m(self, path_or_buffer, engine, storage_options)\u001b[0m\n\u001b[0;32m   1374\u001b[0m     ext \u001b[38;5;241m=\u001b[39m \u001b[38;5;124m\"\u001b[39m\u001b[38;5;124mxls\u001b[39m\u001b[38;5;124m\"\u001b[39m\n\u001b[0;32m   1375\u001b[0m \u001b[38;5;28;01melse\u001b[39;00m:\n\u001b[1;32m-> 1376\u001b[0m     ext \u001b[38;5;241m=\u001b[39m \u001b[43minspect_excel_format\u001b[49m\u001b[43m(\u001b[49m\n\u001b[0;32m   1377\u001b[0m \u001b[43m        \u001b[49m\u001b[43mcontent_or_path\u001b[49m\u001b[38;5;241;43m=\u001b[39;49m\u001b[43mpath_or_buffer\u001b[49m\u001b[43m,\u001b[49m\u001b[43m \u001b[49m\u001b[43mstorage_options\u001b[49m\u001b[38;5;241;43m=\u001b[39;49m\u001b[43mstorage_options\u001b[49m\n\u001b[0;32m   1378\u001b[0m \u001b[43m    \u001b[49m\u001b[43m)\u001b[49m\n\u001b[0;32m   1379\u001b[0m     \u001b[38;5;28;01mif\u001b[39;00m ext \u001b[38;5;129;01mis\u001b[39;00m \u001b[38;5;28;01mNone\u001b[39;00m:\n\u001b[0;32m   1380\u001b[0m         \u001b[38;5;28;01mraise\u001b[39;00m \u001b[38;5;167;01mValueError\u001b[39;00m(\n\u001b[0;32m   1381\u001b[0m             \u001b[38;5;124m\"\u001b[39m\u001b[38;5;124mExcel file format cannot be determined, you must specify \u001b[39m\u001b[38;5;124m\"\u001b[39m\n\u001b[0;32m   1382\u001b[0m             \u001b[38;5;124m\"\u001b[39m\u001b[38;5;124man engine manually.\u001b[39m\u001b[38;5;124m\"\u001b[39m\n\u001b[0;32m   1383\u001b[0m         )\n",
      "File \u001b[1;32m~\\AppData\\Local\\Programs\\Python\\Python310\\lib\\site-packages\\pandas\\io\\excel\\_base.py:1250\u001b[0m, in \u001b[0;36minspect_excel_format\u001b[1;34m(content_or_path, storage_options)\u001b[0m\n\u001b[0;32m   1247\u001b[0m \u001b[38;5;28;01mif\u001b[39;00m \u001b[38;5;28misinstance\u001b[39m(content_or_path, \u001b[38;5;28mbytes\u001b[39m):\n\u001b[0;32m   1248\u001b[0m     content_or_path \u001b[38;5;241m=\u001b[39m BytesIO(content_or_path)\n\u001b[1;32m-> 1250\u001b[0m \u001b[38;5;28;01mwith\u001b[39;00m \u001b[43mget_handle\u001b[49m\u001b[43m(\u001b[49m\n\u001b[0;32m   1251\u001b[0m \u001b[43m    \u001b[49m\u001b[43mcontent_or_path\u001b[49m\u001b[43m,\u001b[49m\u001b[43m \u001b[49m\u001b[38;5;124;43m\"\u001b[39;49m\u001b[38;5;124;43mrb\u001b[39;49m\u001b[38;5;124;43m\"\u001b[39;49m\u001b[43m,\u001b[49m\u001b[43m \u001b[49m\u001b[43mstorage_options\u001b[49m\u001b[38;5;241;43m=\u001b[39;49m\u001b[43mstorage_options\u001b[49m\u001b[43m,\u001b[49m\u001b[43m \u001b[49m\u001b[43mis_text\u001b[49m\u001b[38;5;241;43m=\u001b[39;49m\u001b[38;5;28;43;01mFalse\u001b[39;49;00m\n\u001b[0;32m   1252\u001b[0m \u001b[43m\u001b[49m\u001b[43m)\u001b[49m \u001b[38;5;28;01mas\u001b[39;00m handle:\n\u001b[0;32m   1253\u001b[0m     stream \u001b[38;5;241m=\u001b[39m handle\u001b[38;5;241m.\u001b[39mhandle\n\u001b[0;32m   1254\u001b[0m     stream\u001b[38;5;241m.\u001b[39mseek(\u001b[38;5;241m0\u001b[39m)\n",
      "File \u001b[1;32m~\\AppData\\Local\\Programs\\Python\\Python310\\lib\\site-packages\\pandas\\io\\common.py:798\u001b[0m, in \u001b[0;36mget_handle\u001b[1;34m(path_or_buf, mode, encoding, compression, memory_map, is_text, errors, storage_options)\u001b[0m\n\u001b[0;32m    789\u001b[0m         handle \u001b[38;5;241m=\u001b[39m \u001b[38;5;28mopen\u001b[39m(\n\u001b[0;32m    790\u001b[0m             handle,\n\u001b[0;32m    791\u001b[0m             ioargs\u001b[38;5;241m.\u001b[39mmode,\n\u001b[1;32m   (...)\u001b[0m\n\u001b[0;32m    794\u001b[0m             newline\u001b[38;5;241m=\u001b[39m\u001b[38;5;124m\"\u001b[39m\u001b[38;5;124m\"\u001b[39m,\n\u001b[0;32m    795\u001b[0m         )\n\u001b[0;32m    796\u001b[0m     \u001b[38;5;28;01melse\u001b[39;00m:\n\u001b[0;32m    797\u001b[0m         \u001b[38;5;66;03m# Binary mode\u001b[39;00m\n\u001b[1;32m--> 798\u001b[0m         handle \u001b[38;5;241m=\u001b[39m \u001b[38;5;28;43mopen\u001b[39;49m\u001b[43m(\u001b[49m\u001b[43mhandle\u001b[49m\u001b[43m,\u001b[49m\u001b[43m \u001b[49m\u001b[43mioargs\u001b[49m\u001b[38;5;241;43m.\u001b[39;49m\u001b[43mmode\u001b[49m\u001b[43m)\u001b[49m\n\u001b[0;32m    799\u001b[0m     handles\u001b[38;5;241m.\u001b[39mappend(handle)\n\u001b[0;32m    801\u001b[0m \u001b[38;5;66;03m# Convert BytesIO or file objects passed with an encoding\u001b[39;00m\n",
      "\u001b[1;31mFileNotFoundError\u001b[0m: [Errno 2] No such file or directory: 'dataLiabilityParameters.xlsx'"
     ]
    }
   ],
   "source": [
    "col_list = ['LIAB_NAME', 'ALPHA_PC', 'BETA_PC', 'CAP_PC', 'G_PC', 'M_PC', 'PS_METHOD', 'PS_REFERENCE', 'PS_BENCH_TERM', \\\n",
    "           'PS_AV_PERIOD', 'PS_HIST_INDEX', 'ECONOMY', 'I_DEFLOSS_RESERVE', 'DEFLOSS_IND', 'Product']\n",
    "df_liabilityParameters = pd.read_excel(r\"dataLiabilityParameters.xlsx\", usecols = col_list)\n",
    "df_liabilityParameters"
   ]
  },
  {
   "cell_type": "markdown",
   "id": "09227034",
   "metadata": {},
   "source": [
    "### Liability kasstromen en kasstroom indicator"
   ]
  },
  {
   "cell_type": "code",
   "execution_count": null,
   "id": "e17e0ebf",
   "metadata": {},
   "outputs": [],
   "source": [
    "df_liabilityKasstromen = pd.read_csv(r\"dataLiabilityCashFlows.csv\",sep = \";\",decimal = '.')\n",
    "df_liabilityKasstromen"
   ]
  },
  {
   "cell_type": "code",
   "execution_count": null,
   "id": "a52c3d2c",
   "metadata": {},
   "outputs": [],
   "source": [
    "df_kasstroomIndicator = pd.read_excel(r\"dataKasstroomIndicator.xlsx\")\n",
    "df_kasstroomIndicator"
   ]
  },
  {
   "cell_type": "code",
   "execution_count": null,
   "id": "642f250a",
   "metadata": {},
   "outputs": [],
   "source": [
    "df_RSKParameters = pd.read_excel(r\"dataRSKParameters.xlsx\")\n",
    "df_RSKParameters"
   ]
  },
  {
   "cell_type": "markdown",
   "id": "eb964581",
   "metadata": {},
   "source": [
    "### Historische rentes"
   ]
  },
  {
   "cell_type": "code",
   "execution_count": null,
   "id": "5d95a030",
   "metadata": {},
   "outputs": [],
   "source": [
    "df_historicRates = pd.read_excel(r\"dataHistoricRates.xlsx\")\n",
    "df_historicRates"
   ]
  },
  {
   "cell_type": "markdown",
   "id": "b315df34",
   "metadata": {},
   "source": [
    "### Rentecurves"
   ]
  },
  {
   "cell_type": "code",
   "execution_count": null,
   "id": "c7e8eae4",
   "metadata": {},
   "outputs": [],
   "source": [
    "df_renteCurves = pd.read_excel(r\"dataRenteCurves.xlsx\")\n",
    "df_renteCurves = df_renteCurves.rename({'Swap 50 type00': 'swapZero', 'Dutch Govt type00': 'StaatZero', 'VA SCR Curve (Toezichthouderscurve (incl VA)) type00': 'VA'}, axis=1)\n",
    "df_renteCurves"
   ]
  },
  {
   "cell_type": "markdown",
   "id": "82789c94",
   "metadata": {},
   "source": [
    "### ESG data"
   ]
  },
  {
   "cell_type": "code",
   "execution_count": null,
   "id": "b091f5d5",
   "metadata": {},
   "outputs": [],
   "source": [
    "df_ESG = pd.read_csv(r\"dataESG.csv\",sep = \";\",decimal = '.')\n",
    "df_ESG"
   ]
  },
  {
   "cell_type": "markdown",
   "id": "b8665a55",
   "metadata": {},
   "source": [
    "## Databewerking op rentes\n",
    "Voordat winstdeling kan worden berekend, dient eerst een aatal bewerkingen op rentecurves plaats te vinden. Achtereenvolgens worden de volgende rentes bepaald:\n",
    "- Referentie rente\n",
    "- Discountcurve in simulatie\n",
    "- Discountcurve in basis\n",
    "- Cash rendement"
   ]
  },
  {
   "cell_type": "markdown",
   "id": "0a3547be",
   "metadata": {},
   "source": [
    "### Referentie rente in simulatie\n",
    "Winstdeling wordt gegeven obv een referentie rate. De referentie rate is gelijk aan de $x$ jaars Solvency 2 par rate (ex VA) + spread (benchmark adjustment). De spread is gelijk aan het verschil tussen de $x$ jaars Staats forward rate en de $x$ jaars zeroswap rate. De Staats rate wordt gezien als de benchmark rate voor alle renteparticipatie rentes ($r, s, t, u$ rendementen), er wordt dus verder geen onderscheid gemaakt. De Solvency 2 par rate muteert over alle ESG's en simulaties, terwijl de spread constant blijft.\n",
    "\n",
    "$$\n",
    "rr_{s,t,x} = r_{s,t,x}^{S2} + \\left(f_{1,t,x}^S - f_{1,t,x}^z\\right)\n",
    "$$\n",
    "\n",
    "|variabele|betekenis|\n",
    "|:---|:---|\n",
    "|$rr_{s,t,x}$ | referentie rente in simulatie $s$ in jaar $t$ met looptijd $x$|\n",
    "|$r_{s,t,x}^{S2}$ | Solvency 2 par rente in simulatie $s$ in jaar $t$ met looptijd $x$|\n",
    "|$f_{1,t,x}^S$ | forwardrente in de basis simulatie met looptijd $x$ over $t$ jaar gebaseerd op de actuele Staatscurve |\n",
    "|$f_{1,t,x}^z$ | forwardrente in de basis simulatie met looptijd $x$ over $t$ jaar gebaseerd op de actuele zeroswapcurve |"
   ]
  },
  {
   "cell_type": "markdown",
   "id": "eb6f3ce0",
   "metadata": {},
   "source": [
    "#### Forward rente gebaseerd op Staat\n",
    "In geval dat de economy gelijk is aan EUR worden de werkelijke Staatsrentes gebruikt, anders worden de swaprentes gehanteerd alsof deze Staatsrentes zijn."
   ]
  },
  {
   "cell_type": "code",
   "execution_count": null,
   "id": "1175a188",
   "metadata": {},
   "outputs": [],
   "source": [
    "def calculateStaatForwardRates(economy, referenceRateTerm):\n",
    "    if economy == 'EUR':\n",
    "        df_StaatDiscount = df_renteCurves.loc[(df_renteCurves['Currency'] == 'EUR'), ['jaar', 'StaatZero']]\n",
    "        df_StaatDiscount['StaatDiscount'] = (1/(1+df_StaatDiscount['StaatZero']))**df_StaatDiscount['jaar']\n",
    "    else:\n",
    "        df_StaatDiscount = df_renteCurves.loc[(df_renteCurves['Currency'] == economy), ['jaar', 'swapZero']]\n",
    "        df_StaatDiscount['StaatDiscount'] = (1/(1+df_StaatDiscount['swapZero']))**df_StaatDiscount['jaar']\n",
    "    df_StaatForwardRates = pd.DataFrame(0, index = np.arange(0,100), columns = np.arange(1))\n",
    "    for jaar in range(0,100):\n",
    "        if jaar == 0:\n",
    "            df_StaatForwardRates.iloc[jaar,0] = (1 / df_StaatDiscount.loc[jaar-1+referenceRateTerm, 'StaatDiscount'])**(1/referenceRateTerm)-1\n",
    "        else:\n",
    "            df_StaatForwardRates.iloc[jaar,0] = (df_StaatDiscount.loc[jaar-1, 'StaatDiscount'] / df_StaatDiscount.loc[jaar-1+referenceRateTerm, 'StaatDiscount'])**(1/referenceRateTerm)-1\n",
    "    return df_StaatForwardRates"
   ]
  },
  {
   "cell_type": "markdown",
   "id": "427ed6ce",
   "metadata": {},
   "source": [
    "#### Forward rente gebaseerd op swap"
   ]
  },
  {
   "cell_type": "code",
   "execution_count": null,
   "id": "8c7e62ae",
   "metadata": {},
   "outputs": [],
   "source": [
    "def calculateSwapForwardRates(economy, referenceRateTerm):\n",
    "    df_swapDiscount = df_renteCurves.loc[(df_renteCurves['Currency'] == economy), ['jaar', 'swapZero']]\n",
    "    df_swapDiscount['swapDiscount'] = (1/(1+df_swapDiscount['swapZero']))**df_swapDiscount['jaar']\n",
    "    df_swapForwardRates = pd.DataFrame(0, index = np.arange(0,100), columns = np.arange(1))\n",
    "    for jaar in range(0,100):\n",
    "        if jaar == 0:\n",
    "            df_swapForwardRates.iloc[jaar,0] = (1 / df_swapDiscount.loc[jaar-1+referenceRateTerm, 'swapDiscount'])**(1/referenceRateTerm)-1\n",
    "        else:\n",
    "            df_swapForwardRates.iloc[jaar,0] = (df_swapDiscount.loc[jaar-1, 'swapDiscount'] / df_swapDiscount.loc[jaar-1+referenceRateTerm, 'swapDiscount'])**(1/referenceRateTerm)-1\n",
    "    return df_swapForwardRates"
   ]
  },
  {
   "cell_type": "markdown",
   "id": "22880a72",
   "metadata": {},
   "source": [
    "#### Solvency 2 par rente in simulatie\n",
    "De Solvency 2 par rente is gebaseerd op de discountcurves in de ESG. Deze discountcurves zijn niet voor alle jaren meegegeven, namelijk alleen voor de jaren 1, 2, 3, 5, 7, 10, 12, 15, 20, 25, 30, 40 en 50. De eerste stap is daarom (linaire) interpolatie van de discount factoren over alle jaren."
   ]
  },
  {
   "cell_type": "code",
   "execution_count": null,
   "id": "7f579d95",
   "metadata": {},
   "outputs": [],
   "source": [
    "def calculateS2ParRates(simulatie, economy, referenceRateTerm, df_StaatForwardRates, df_swapForwardRates):\n",
    "    jaren = [1,2,3,5,7,10,12,15,20,25,30,40,50]\n",
    "    df_S2Discount = df_ESG.loc[(df_ESG['SIMULATION'] == simulatie) & (df_ESG['ECONOMY'] == economy) & (df_ESG['TERM'].isin(jaren)), 'TERM':]\n",
    "    df_S2DiscountInterpolated = pd.DataFrame({'TERM': range(1,51)})\n",
    "    df_S2DiscountInterpolated = pd.merge(df_S2DiscountInterpolated, df_S2Discount, how = 'left', on = ['TERM'])\n",
    "    df_S2DiscountInterpolated = df_S2DiscountInterpolated.interpolate(method ='linear')\n",
    "    df_S2ParCurves = pd.DataFrame(0, index = np.arange(1,51), columns = np.arange(100))\n",
    "    for t in range(0,100):\n",
    "        sumDiscount = 0\n",
    "        for jaar in range(1,51):\n",
    "            sumDiscount += df_S2DiscountInterpolated.iloc[jaar-1, t+1]\n",
    "            df_S2ParCurves.loc[jaar, t] = (1-df_S2DiscountInterpolated.iloc[jaar-1, t+1]) / sumDiscount \n",
    "    df_S2ParRates = df_S2ParCurves.loc[referenceRateTerm:referenceRateTerm].T\n",
    "    df_S2ParRates = df_S2ParRates.rename({referenceRateTerm: 'S2ParRates'}, axis=1)\n",
    "    df_S2ParRates['StaatForwardRates'] = df_StaatForwardRates[0]\n",
    "    df_S2ParRates['SwapForwardRates'] = df_swapForwardRates[0]\n",
    "    df_S2ParRates['jaar'] = list(range(1,101))\n",
    "    return df_S2ParRates"
   ]
  },
  {
   "cell_type": "markdown",
   "id": "795860bc",
   "metadata": {},
   "source": [
    "#### Referentie rente in simulatie"
   ]
  },
  {
   "cell_type": "code",
   "execution_count": null,
   "id": "82e625ed",
   "metadata": {},
   "outputs": [],
   "source": [
    "def calculateReferenceRates(df_S2ParRates, historyIndex):\n",
    "    df_referenceRates = pd.DataFrame(0, index = np.arange(0,100), columns = ['referenceRates', 'referenceRatesRSK'])\n",
    "    df_referenceRates['referenceRates'] = df_S2ParRates['S2ParRates'] + (df_S2ParRates['StaatForwardRates'] - df_S2ParRates['SwapForwardRates'])\n",
    "    df_referenceRates['referenceRatesRSK'] = df_S2ParRates['S2ParRates'] + (df_S2ParRates['StaatForwardRates'].shift(-1) - df_S2ParRates['SwapForwardRates'].shift(-1))\n",
    "    df_referenceRates['jaar'] = list(range(1,101))\n",
    "    for h in range(0,10):\n",
    "        df_histRates = pd.DataFrame({'referenceRates': [df_historicRates.loc[h, historyIndex]/100], 'jaar': [-h]})\n",
    "        df_referenceRates = pd.concat([df_histRates, df_referenceRates]).reset_index(drop=True)\n",
    "    return df_referenceRates"
   ]
  },
  {
   "cell_type": "markdown",
   "id": "68886ff8",
   "metadata": {},
   "source": [
    "### Discountcurve inclusief VA\n",
    "De discountcurve in de simulatie wordt verkregen uit de ESG. Voor de betreffende simulatie en de economy wordt de deflator regel uit de ESG genomen. Vervolgens wordt de VA hierbij opgeteld."
   ]
  },
  {
   "cell_type": "code",
   "execution_count": null,
   "id": "f90a7fc4",
   "metadata": {},
   "outputs": [],
   "source": [
    "def calculateS2DiscountPlusVA(simulatie, economy):\n",
    "    df_S2DiscountPlusVA = df_ESG.loc[(df_ESG['SIMULATION'] == simulatie) & (df_ESG['ECONOMY'] == economy) & (df_ESG['MEASURE'] == 'DEF'), 'TERM':].T\n",
    "    df_S2DiscountPlusVA = df_S2DiscountPlusVA.drop(['TERM'], axis = 0)\n",
    "    df_S2DiscountPlusVA.columns = ['Deflator']\n",
    "    df_S2DiscountPlusVA.index = df_S2DiscountPlusVA.index.astype(int)\n",
    "    df_VA = df_renteCurves.loc[(df_renteCurves['Currency'] == economy) & (df_renteCurves['jaar'] <= 101), ['VA']]\n",
    "    df_VA = df_VA.shift(1).fillna(0)\n",
    "    df_S2DiscountPlusVA['VA'] = df_VA['VA']\n",
    "    df_S2DiscountPlusVA['jaar'] = list(range(0,101))\n",
    "    df_S2DiscountPlusVA['S2DiscountPlusVA'] = (df_S2DiscountPlusVA['Deflator']**(-1/df_S2DiscountPlusVA['jaar']) + df_S2DiscountPlusVA['VA'])**(-df_S2DiscountPlusVA['jaar'])\n",
    "    return df_S2DiscountPlusVA"
   ]
  },
  {
   "cell_type": "markdown",
   "id": "11201013",
   "metadata": {},
   "source": [
    "### Cash rendement in simulatie\n",
    "Het cash rendement wordt bepaald als de forward rente gebaseerd op de deflator uit de betreffende economie en simultie plus de VA."
   ]
  },
  {
   "cell_type": "code",
   "execution_count": null,
   "id": "91531945",
   "metadata": {},
   "outputs": [],
   "source": [
    "def calculateCashReturnSimulation(df_S2DiscountPlusVASimulation):\n",
    "    df_cashReturnSimulation = pd.DataFrame(0, index = np.arange(0,101), columns = np.arange(0))\n",
    "    df_cashReturnSimulation['Deflator'] = df_S2DiscountPlusVASimulation['Deflator']\n",
    "    df_cashReturnSimulation['forwardRate'] = df_cashReturnSimulation['Deflator'].shift(+1) / df_cashReturnSimulation['Deflator'] - 1\n",
    "    df_forwardVA = pd.DataFrame(0, index = np.arange(0,101), columns = np.arange(0))\n",
    "    df_forwardVA['forwardVA'] = df_S2DiscountPlusVASimulation['S2DiscountPlusVA'].shift(+1) / df_S2DiscountPlusVASimulation['S2DiscountPlusVA'] - df_S2DiscountPlusVASimulation['Deflator'].shift(+1) / df_S2DiscountPlusVASimulation['Deflator']\n",
    "    df_cashReturnSimulation['forwardVA'] = df_forwardVA['forwardVA']\n",
    "    df_cashReturnSimulation['cashReturn'] = df_cashReturnSimulation['forwardRate'] + df_cashReturnSimulation['forwardVA']\n",
    "    return df_cashReturnSimulation"
   ]
  },
  {
   "cell_type": "markdown",
   "id": "8801c526",
   "metadata": {},
   "source": [
    "## Databewerking op kasstromen"
   ]
  },
  {
   "cell_type": "code",
   "execution_count": null,
   "id": "986175ff",
   "metadata": {
    "scrolled": true
   },
   "outputs": [],
   "source": [
    "df_liabilityKasstromen = pd.merge(df_liabilityKasstromen, df_kasstroomIndicator, how = 'left', on = ['VAR_NAME'])\n",
    "df_liabilityKasstromen"
   ]
  },
  {
   "cell_type": "markdown",
   "id": "428def67",
   "metadata": {},
   "source": [
    "### Bepaal premie kasstromen"
   ]
  },
  {
   "cell_type": "code",
   "execution_count": null,
   "id": "6a6cec47",
   "metadata": {},
   "outputs": [],
   "source": [
    "df_CFsPremies = df_liabilityKasstromen.copy()\n",
    "df_CFsPremies.iloc[:, 2:102] = df_CFsPremies.iloc[:, 2:102].multiply(df_CFsPremies['CFPs'], axis = \"index\")\n",
    "df_CFsPremies = df_CFsPremies.groupby('LIAB_NAME').sum().reset_index()\n",
    "df_CFsPremies = df_CFsPremies.drop(columns = ['CFs', 'CFUs', 'CFPs'])\n",
    "df_CFsPremies"
   ]
  },
  {
   "cell_type": "markdown",
   "id": "f00aa177",
   "metadata": {},
   "source": [
    "### Bepaal uitkering kasstromen"
   ]
  },
  {
   "cell_type": "code",
   "execution_count": null,
   "id": "c2e14491",
   "metadata": {},
   "outputs": [],
   "source": [
    "df_CFsUitkeringen = df_liabilityKasstromen.copy()\n",
    "df_CFsUitkeringen.iloc[:, 2:102] = df_CFsUitkeringen.iloc[:, 2:102].multiply(df_CFsUitkeringen['CFUs'], axis = \"index\")\n",
    "df_CFsUitkeringen = df_CFsUitkeringen.groupby('LIAB_NAME').sum().reset_index()\n",
    "df_CFsUitkeringen = df_CFsUitkeringen.drop(columns = ['CFs', 'CFUs', 'CFPs'])\n",
    "df_CFsUitkeringen"
   ]
  },
  {
   "cell_type": "markdown",
   "id": "54080617",
   "metadata": {},
   "source": [
    "## Methodiek winstdeling\n",
    "De winstdeling in dit notebook betreft winstdeling op basis van renteparticipatie, ofwel modelpunten met profit sharing rule 4. Binnen renteparticipatie wordt onderscheid gemaakt naar modelpunten met productcode FSTRAD, productcode FSFSPD en productcode FSRSK_. FSTRAD staat voor traditionele winstdelende producten, FSFSPD staat voor gesepareerde beleggingsdepots en FSRSK_ voor producten met rentestandskorting op de te betalen premie. \n",
    "\n",
    "Binnen de productcodes FSTRAD en FSFSPD wordt verder onderscheid gemaakt naar modelpunten waarbij rekening dient te worden gehouden met een deferred loss, en waarbij dit niet het geval is. Op de deferred loss account wordt bijgehouden hoeveel verlies a.s.r. heeft gemaakt op het modelpunt. Daarbij wordt er van uit gegaan dat a.s.r. een rendement maakt gelijk aan de reference rate. Indien  deze lager uitkomt dan de rekenrente, maakt a.s.r. verlies.Pas wanneer de deferred loss account gelijk is aan 0, kan er winstdeling worden gegeven ter grootte van de gain in het betreffende jaar. Als de deferred loss account groter is dan 0, kan alleen winstdeling worden gegeven als de gain in het betreffende jaar groter is dan de deferred loss account.\n",
    "\n",
    "Tenslotte kan winstdeling direct als cash worden uitgekeerd aan de klant, ofwel kunnen de toekomstige uitkeringen aan de klant worden verhoogd met de winstdeling. Daarmee wordt de voorziening verhoogd. De wijze van winstdeling is per modelpunt vastgelegd.\n",
    "\n",
    "Bij rentestandskorting geldt dat de polishouder een rentestandskorting op de premie krijgt indien de rente hoger is dan de gehanteerde rekenrente in het verzekeringsproduct. Deze korting wordt bij premiebetaling gegeven. Binnen het model wordt deze korting gerapporteerd  als een cash bonus."
   ]
  },
  {
   "cell_type": "markdown",
   "id": "37a85e12",
   "metadata": {},
   "source": [
    "### FSTRAD"
   ]
  },
  {
   "cell_type": "markdown",
   "id": "2a854340",
   "metadata": {},
   "source": [
    "#### Winstdeling zonder deferred loss via cash\n",
    "$$\n",
    "PS^c_s = \\sum^T_{t=1}A^{ps}_{s,t} \\cdot \\left(1+cr_{s,t}\\right)^{1-\\tau}\\cdot D_{1,t} \\tag{1}\\\\\n",
    "$$\n",
    "waarbij\n",
    "$$\n",
    "A^{ps}_{s,t} = V_t \\cdot P_{s,t} \\tag{2}\\\\\n",
    "$$\n",
    "en\n",
    "$$\n",
    "P_{s,t} = \\frac{1}{K}\\cdot\\sum^{K-1}_{j=0} min \\left(\\alpha \\cdot max\\left(\\beta \\cdot \\left(rr_{s,t-j,x} - m \\right) - g, 0 \\right),c \\right) \\tag{3}\n",
    "$$\n",
    "\n",
    "|variabele|betekenis|\n",
    "|:---|:---|\n",
    "|$PS^c_s$ | intrinsieke waarde van profit sharing via cash (op $t=0$) in simulatie $s$|\n",
    "|$cr_{s,t}$| cash return in jaar $t$ in simulatie $s$|\n",
    "|$D_{1,t}$| discount factor (inclusief VA) in jaar $t$ in simulatie $1$ (basis simulatie)|\n",
    "|$A^{ps}_{s,t}$ | beschikbaar bedrag voor profit sharing in jaar $t$ in simulatie $s$|\n",
    "|$V_t$ | waarde IFRS voorziening in jaar $t$|\n",
    "|$P_{s,t}$ | profit sharing rente in jaar $t$ in simulatie $s$ |\n",
    "|$K$ | aantal (historische) jaren waarover profit sharing wordt gegeven |\n",
    "|$\\alpha$| fractie 1|\n",
    "|$\\beta$| fractie 1|\n",
    "|$rr_{s,t,x}$| referente rente in jaar $t$ in simulatie $s$ met term $x$| \n",
    "|$m$| marge |\n",
    "|$g$| garantie rente|"
   ]
  },
  {
   "cell_type": "markdown",
   "id": "46a9bf21",
   "metadata": {},
   "source": [
    "#### Winstdeling zonder deferred loss via verhoging voorziening\n",
    "$$\n",
    "PS^v_s = \\sum^T_{t=1}CF^{ps}_{s,t} \\cdot \\left(1+cr_{s,t}\\right)^{1-\\tau}\\cdot D_{s,t} \\tag{4}\\\\\n",
    "$$\n",
    "waarbij\n",
    "$$\n",
    "CF^{ps}_{s,t} = CF^U_t \\cdot \\left( FF_{s,t} - 1\\right) \\tag{5}\n",
    "$$\n",
    "met\n",
    "$$\n",
    "FF_{s,t} =\n",
    "\\begin{cases}\n",
    "    \\frac{V_t + V_{s,t}^{ps}}{V_t} & \\text{if } V_t\\neq 0 \\\\\n",
    "    1 & \\text{otherwise}\n",
    "\\end{cases}\n",
    "\\tag{6}\n",
    "$$\n",
    "met\n",
    "$$\n",
    "V_{s,t}^{ps} = V_{s,t-1}^{ps} \\cdot RF_{s,t} + A_{s,t}^{ps} \\tag{7}\n",
    "$$\n",
    "met\n",
    "$$\n",
    "RF_{s,t} =\n",
    "\\begin{cases}\n",
    "    \\max \\left( \\min \\left( \\frac{V_t - CF^P_t}{V_{t-1}},1 \\right),0 \\right) \\hspace{2cm} & \\text{if } V_{t-1}\\neq 0 \\\\\n",
    "    0 & \\text{otherwise}\n",
    "\\end{cases}\n",
    "\\tag{8}\n",
    "$$\n",
    "met\n",
    "$$\n",
    "A^{ps}_{s,t} = (2) \\text{ en }(3)\n",
    "$$\n",
    "\n",
    "|variabele|betekenis|\n",
    "|:---|:---|\n",
    "|$PS^v_s$ | intrinsieke waarde van profit sharing via verhoging van de voorziening (op $t=0$) in simulatie $s$|\n",
    "|$D_{s,t}$| discount factor (inclusief VA) in jaar $t$ in simulatie $s$|\n",
    "|$CF^{ps}_{s,t}$ | cashflow als gevolg van profit sharing in jaar $t$ in simulatie $s$|\n",
    "|$CF^U_t$ | totale uitkering kasstromen in jaar $t$|\n",
    "|$FF_{s,t}$| flexfactor in jaar $t$ in simulatie $s$: houdt bij met hoeveel (profit sharing) cashflows worden opgehoogd agv winstdeling, en hoeveel deze afnemen agv uitkeringen|\n",
    "|$V_{s,t}^{ps}$| de voorziening agv winstdeling in jaar $t$ in simulatie $s$ inclusief uitloop van deze voorziening agv uitkeringen|\n",
    "|$RF_{s,t}$| release factor in jaar $t$ in simulatie $s$: de relatieve afname van de voorziening agv uitkeringen|\n",
    "|$CF^P_t$| totale premie kasstromen in jaar $t$|"
   ]
  },
  {
   "cell_type": "markdown",
   "id": "274ddba7",
   "metadata": {},
   "source": [
    "#### Winstdeling met deferred loss via cash\n",
    "Op de deferred loss account wordt bijgehouden hoeveel verlies a.s.r. heeft gemaakt op het modelpunt. Daarbij wordt er van uit gegaan dat a.s.r. een rendement maakt gelijk aan de reference rate. Indien deze lager uitkomt dan de rekenrente, maakt a.s.r. verlies. Pas wanneer de deferred loss account gelijk is aan 0, kan er winstdeling worden gegeven ter grootte van de gain in het betreffende jaar. Als de deferred loss account groter is dan 0, kan alleen winstdeling worden gegeven als de gain in het betreffende jaar groter is dan de deferred loss account.\n",
    "\n",
    "$$\n",
    "PS^c_s = \\sum^T_{t=1}A^{ps}_{s,t} \\cdot \\left(1+cr_{s,t}\\right)^{1-\\tau}\\cdot D_{1,t} \\tag{1}\\\\\n",
    "$$\n",
    "waarbij\n",
    "$$\n",
    "A^{ps}_{s,t} =\n",
    "\\begin{cases}\n",
    "    GLA_{s,t} \\hspace{2cm} & \\text{if } DLA_{s,t-1}= 0 \\\\\n",
    "    \\max \\left( GLA_{s,t}-DLA_{s,t-1},0 \\right) \\hspace{2cm} & \\text{if } DLA_{s,t-1} \\neq 0 \\\\ \n",
    "\\end{cases}\n",
    "\\tag{9}\n",
    "$$\n",
    "met\n",
    "$$\n",
    "GLA_{s,t} = V_t \\cdot P_{s,t} \\tag{10}\\\\\n",
    "$$\n",
    "en\n",
    "$$\n",
    "DLA_{s,t-1} =\n",
    "\\begin{cases}\n",
    "    DLA_{s,t-1} - GLA_{s,t} \\hspace{1cm} & \\text{if } GLA_{s,t} <0 \\text{ or } DLA_{s,t-1} - GLA_{s,t} >0 \\\\\n",
    "    0 & \\text{otherwise }\\\\\n",
    "\\end{cases}\n",
    "\\tag{11}\n",
    "$$\n",
    "en\n",
    "$$\n",
    "P_{s,t} = \\frac{1}{K}\\cdot\\sum^{K-1}_{j=0} min \\left(\\alpha \\cdot \\left(\\beta \\cdot \\left(rr_{s,t-j,x} - m \\right) - g\\right),c \\right) \\tag{12}\n",
    "$$\n",
    "\n",
    "|variabele|betekenis|\n",
    "|:---|:---|\n",
    "|$A^{ps}_{s,t}$ | beschikbaar bedrag voor profit sharing in jaar $t$ in simulatie $s$, na verrekening met deferred loss account|\n",
    "|$GLA_{s,t}$ | gain loss amount, i.e. bedrag in principe beschikbaar voor profit sharing in jaar $t$ in simulatie $s$, maar nog vóór verrekening met deferred loss account|\n",
    "|$DLA_{s,t}$ | deferred loss account |\n"
   ]
  },
  {
   "cell_type": "markdown",
   "id": "9827e21d",
   "metadata": {},
   "source": [
    "#### Winstdeling met deferred loss via verhoging voorziening\n",
    "$$\n",
    "PS^v_s = \\sum^T_{t=1}CF^{ps}_{s,t} \\cdot \\left(1+cr_{s,t}\\right)^{1-\\tau}\\cdot D_{s,t} \\tag{4}\\\\\n",
    "$$\n",
    "waarbij\n",
    "$$\n",
    "CF^{ps}_{s,t} = (5), (6), (7), (8), (9), (11) \\text{ en } (12)\n",
    "$$\n",
    "met\n",
    "$$\n",
    "GLA_{s,t} = V_t \\cdot FF_{s,t-1} \\cdot P_{s,t} \\tag{13}\\\\\n",
    "$$"
   ]
  },
  {
   "cell_type": "markdown",
   "id": "e5fcbd88",
   "metadata": {},
   "source": [
    "### FSFSPD"
   ]
  },
  {
   "cell_type": "markdown",
   "id": "b5c3f992",
   "metadata": {},
   "source": [
    "#### Winstdeling zonder deferred loss via cash\n",
    "$$\n",
    "PS^c_s = \\sum^T_{t=1}A^{ps}_{s,t} \\cdot \\left(1+cr_{s,t}\\right)^{1-\\tau}\\cdot D_{1,t} \\tag{1}\\\\\n",
    "$$\n",
    "waarbij\n",
    "$$\n",
    "A^{ps}_{s,t} = (2) \\\\\n",
    "$$\n",
    "en\n",
    "$$\n",
    "P_{s,t} = min \\left(\\alpha \\cdot max\\left(\\beta \\cdot \\left(\\frac{1}{K}\\cdot\\sum^{K-1}_{j=0} rr_{s,t-j,x} - m \\right) - g, 0 \\right),c \\right) \\tag{14}\n",
    "$$\n",
    "met\n",
    "$$\n",
    "rr_{s,t-j,x} = \n",
    "\\begin{cases}\n",
    "    \\text{S2 par rate ex VA met term $x$} \\hspace{1cm} & \\text{if } j = t-1 \\\\\n",
    "    rr_{s,t-j,x} & \\text{otherwise}\\\\\n",
    "\\end{cases}\n",
    "\\tag{15}\n",
    "$$\n"
   ]
  },
  {
   "cell_type": "markdown",
   "id": "450e865a",
   "metadata": {},
   "source": [
    "#### Winstdeling zonder deferred loss via verhoging voorziening\n",
    "$$\n",
    "PS^v_s = \\sum^T_{t=1}CF^{ps}_{s,t} \\cdot \\left(1+cr_{s,t}\\right)^{1-\\tau}\\cdot D_{s,t} \\tag{4}\\\\\n",
    "$$\n",
    "waarbij\n",
    "$$\n",
    "CF^{ps}_{s,t} = (5), (6), (7), (8)\n",
    "$$\n",
    "met\n",
    "$$\n",
    "A^{ps}_{s,t} = (2), (14) \\text{ en }(15)\n",
    "$$"
   ]
  },
  {
   "cell_type": "markdown",
   "id": "a57fef72",
   "metadata": {},
   "source": [
    "#### Winstdeling met deferred loss via cash\n",
    "$$\n",
    "PS^c_s = \\sum^T_{t=1}A^{ps}_{s,t} \\cdot \\left(1+cr_{s,t}\\right)^{1-\\tau}\\cdot D_{1,t} \\tag{1}\\\\\n",
    "$$\n",
    "waarbij\n",
    "$$\n",
    "A^{ps}_{s,t} = (9), (10) \\text{ en } (11)\n",
    "$$\n",
    "met\n",
    "$$\n",
    "P_{s,t} = min \\left(\\alpha \\cdot \\left(\\beta \\cdot \\left(\\frac{1}{K}\\cdot\\sum^{K-1}_{j=0}rr_{s,t-j,x} - m \\right) - g\\right),c \\right) \\tag{16}\n",
    "$$\n",
    "met\n",
    "$$\n",
    "rr_{s,t-j,x} = (15)\n",
    "$$"
   ]
  },
  {
   "cell_type": "markdown",
   "id": "eac18ed3",
   "metadata": {},
   "source": [
    "#### Winstdeling met deferred loss via verhoging voorziening\n",
    "$$\n",
    "PS^v_s = \\sum^T_{t=1}CF^{ps}_{s,t} \\cdot \\left(1+cr_{s,t}\\right)^{1-\\tau}\\cdot D_{s,t} \\tag{4}\\\\\n",
    "$$\n",
    "waarbij\n",
    "$$\n",
    "CF^{ps}_{s,t} = (5), (6), (7), (8), (9), (11), (13), (15) \\text{ en } (16)\n",
    "$$"
   ]
  },
  {
   "cell_type": "markdown",
   "id": "824ecb68",
   "metadata": {
    "heading_collapsed": true
   },
   "source": [
    "### Rentestandskorting\n",
    "Voor de vaststelling van de rentestandskorting wordt binnen het product F_RSK_ de methodiek gehanteerd dat het percentage wordt vastgesteld op basis van een aantal intervallen. Op basis van een x-jarige rente wordt vastgesteld in welke mate een premiereductie wordt vastgesteld \n",
    "\n",
    "$$\n",
    "PS^{rsk}_s = \\sum^T_{t=1}CF^{rsk}_{s,t} \\cdot \\left(1+cr_{s,t}\\right)^{1-\\tau}\\cdot D_{1,t} \\tag{17}\\\\\n",
    "$$\n",
    "met\n",
    "$$\n",
    "CF^{rsk}_{s,t} = CF^P_t \\cdot PR_{s,t}\n",
    "$$\n",
    "met\n",
    "$$\n",
    "PR_{s,t} = \n",
    "\\begin{cases}\n",
    "    \\left(P_{s,t} - RR^1 \\right) \\cdot S^1 + C^1 \\hspace{1cm} & \\text{if } P_{s,t} < RR^2 \\\\\n",
    "    \\left(P_{s,t} - RR^2 \\right) \\cdot S^2 + C^2  & \\text{if } P_{s,t} < RR^3 \\\\\n",
    "    \\left(P_{s,t} - RR^3 \\right) \\cdot S^3 + C^3  & \\text{if } P_{s,t} < RR^4 \\\\\n",
    "    \\left(P_{s,t} - RR^4 \\right) \\cdot S^4 + C^4  & \\text{if } P_{s,t} < RR^5 \\\\\n",
    "    \\left(P_{s,t} - RR^5 \\right) \\cdot S^5 + C^5  & \\text{if } P_{s,t} < RR^6 \\\\\n",
    "    C^6 & \\text{otherwise}\n",
    "\\end{cases}\n",
    "\\tag{15}    \n",
    "$$\n",
    "met\n",
    "$$\n",
    "P_{s,t} = \\alpha \\cdot max\\left(\\beta \\cdot \\left(rr^{rsk}_{s,t-j,x} - m \\right) - g, 0 \\right)  \\tag{14} \n",
    "$$\n",
    "\n",
    "|variabele|betekenis|\n",
    "|:---|:---|\n",
    "|$CF^{rsk}_{s,t}$ | cashflow als gevolg van rentestandskorting in jaar $t$ in simulatie $s$|\n",
    "|$PR_{s,t}$ | premie reductiedactor, i.e. het percentage van de premie dat niet hoeft te worden betaald door de klant agv rentestandskorting|\n",
    "|$RR^i$ | referentierente voor bucket $i$, i.e. indien de profit sharing rente tussen de referentie rentes uit buckets $i$ en $i+1$ ligt, dan wordt premiekorting gegeven ter grootte van $P_{s,t} - RR^i$ (maal een \"scalar\" plus een \"constante\") |\n",
    "|$S^i$| scalar betreffende bucket $i$|\n",
    "|$C^i$| constante betreffende bucket $i$|\n",
    "|$rr^{rsk}_{s,t,x}$| referentierente voor rentestandskorting met term $x$|\n"
   ]
  },
  {
   "cell_type": "markdown",
   "id": "d7026e09",
   "metadata": {},
   "source": [
    "## Modellering"
   ]
  },
  {
   "cell_type": "code",
   "execution_count": null,
   "id": "7fc0497e",
   "metadata": {},
   "outputs": [],
   "source": [
    "modelpunt = 'IACD'\n",
    "\n",
    "# initialisatie\n",
    "economy = df_liabilityParameters.loc[df_liabilityParameters['LIAB_NAME'] == modelpunt,'ECONOMY'].values[0]\n",
    "referenceRateTerm = df_liabilityParameters.loc[df_liabilityParameters['LIAB_NAME'] == modelpunt,'PS_BENCH_TERM'].values[0]\n",
    "profitSharingRule = df_liabilityParameters.loc[df_liabilityParameters['LIAB_NAME'] == modelpunt,'PS_REFERENCE'].values[0]\n",
    "historyIndex = df_liabilityParameters.loc[df_liabilityParameters['LIAB_NAME'] == modelpunt,'PS_HIST_INDEX'].values[0]\n",
    "productType = df_liabilityParameters.loc[df_liabilityParameters['LIAB_NAME'] == modelpunt,'Product'].values[0]\n",
    "productType = 'FSRSK_'\n",
    "#deferredLossReserve = df_liabilityParameters.loc[df_liabilityParameters['LIAB_NAME'] == modelpunt,'I_DEFLOSS_RESERVE'].values[0]\n",
    "deferredLossReserve = 5000000\n",
    "#deferredLossIndicator = df_liabilityParameters.loc[df_liabilityParameters['LIAB_NAME'] == modelpunt,'DEFLOSS_IND'].values[0]\n",
    "deferredLossIndicator = 1\n",
    "#payoutIndicator = df_liabilityParameters.loc[df_liabilityParameters['LIAB_NAME'] == modelpunt,'PS_METHOD'].values[0]\n",
    "payoutIndicator = 1\n",
    "averagePeriodPS = df_liabilityParameters.loc[df_liabilityParameters['LIAB_NAME'] == modelpunt,'PS_AV_PERIOD'].values[0]\n",
    "alpha = df_liabilityParameters.loc[df_liabilityParameters['LIAB_NAME'] == modelpunt,'ALPHA_PC'].values[0]/100\n",
    "beta = df_liabilityParameters.loc[df_liabilityParameters['LIAB_NAME'] == modelpunt,'BETA_PC'].values[0]/100\n",
    "#margin = df_liabilityParameters.loc[df_liabilityParameters['LIAB_NAME'] == modelpunt,'M_PC'].values[0]/100\n",
    "margin = 0\n",
    "#guarantee = df_liabilityParameters.loc[df_liabilityParameters['LIAB_NAME'] == modelpunt,'G_PC'].values[0]/100\n",
    "guarantee = 0\n",
    "cap = df_liabilityParameters.loc[df_liabilityParameters['LIAB_NAME'] == modelpunt,'CAP_PC'].values[0]/100\n",
    "\n",
    "if profitSharingRule == 4:\n",
    "    df_StaatForwardRates = calculateStaatForwardRates(economy, referenceRateTerm)\n",
    "    df_swapForwardRates = calculateSwapForwardRates(economy, referenceRateTerm) \n",
    "    df_S2DiscountPlusVABase = calculateS2DiscountPlusVA(1, economy)\n",
    "    \n",
    "    for simulatie in range(1,11):\n",
    "        df_S2ParRates = calculateS2ParRates(simulatie, economy, referenceRateTerm, df_StaatForwardRates, df_swapForwardRates)\n",
    "        df_referenceRates = calculateReferenceRates(df_S2ParRates, historyIndex)\n",
    "        df_S2DiscountPlusVASimulation = calculateS2DiscountPlusVA(simulatie, economy)\n",
    "        df_cashReturnSimulation = calculateCashReturnSimulation(df_S2DiscountPlusVASimulation)\n",
    "        PS = 0\n",
    "        FFMin1 = 1\n",
    "        VpsMin1 = 0\n",
    "        DLAMin1 = deferredLossReserve \n",
    "        VMin1 = df_liabilityKasstromen.loc[(df_liabilityKasstromen['VAR_NAME'] == 'MATH_RES_IF') & (df_liabilityKasstromen['LIAB_NAME'] == modelpunt), '0'].values[0]\n",
    "        for t in range(1, 100):\n",
    "            V = df_liabilityKasstromen.loc[(df_liabilityKasstromen['VAR_NAME'] == 'MATH_RES_IF') & (df_liabilityKasstromen['LIAB_NAME'] == modelpunt), str(t)].values[0]\n",
    "            tau = df_liabilityKasstromen.loc[(df_liabilityKasstromen['VAR_NAME'] == 'TIMING_INCOME') & (df_liabilityKasstromen['LIAB_NAME'] == modelpunt), str(t)].values[0]\n",
    "            cr = df_cashReturnSimulation.loc[t, 'cashReturn']\n",
    "            Dsim = df_S2DiscountPlusVASimulation.loc[t, 'S2DiscountPlusVA'] \n",
    "            Dbase = df_S2DiscountPlusVABase.loc[t, 'S2DiscountPlusVA']\n",
    "            P = 0\n",
    "\n",
    "            # vaststellen referenterente en profit sharing rente\n",
    "            if productType == 'FSTRAD':\n",
    "                for j in range(0, averagePeriodPS):\n",
    "                    if averagePeriodPS != 0: \n",
    "                        rr = df_referenceRates.loc[df_referenceRates['jaar'] == t-j, 'referenceRates'].values[0]\n",
    "                        if deferredLossIndicator == 0: # als deferredLossIndicator = 0: geen deferred loss, als = 1: wel deferred loss\n",
    "                            P += min(alpha * max(beta * (rr - margin) - guarantee, 0), cap) / averagePeriodPS\n",
    "                        else:\n",
    "                            P += min(alpha * (beta * (rr - margin) - guarantee), cap) / averagePeriodPS   \n",
    "            elif productType == 'FSFSPD':\n",
    "                rr = 0\n",
    "                for j in range(0, averagePeriodPS):\n",
    "                    if averagePeriodPS != 0:\n",
    "                        if j == t-1:\n",
    "                            rr += df_S2ParRates.loc[df_S2ParRates['jaar'] == t-j, 'S2ParRates'].values[0] / averagePeriodPS\n",
    "                        else:\n",
    "                            rr += df_referenceRates.loc[df_referenceRates['jaar'] == t-j, 'referenceRates'].values[0] / averagePeriodPS                      \n",
    "                if deferredLossIndicator == 0:\n",
    "                    P = min(alpha * max(beta * (rr - margin) - guarantee, 0), cap)\n",
    "                else:\n",
    "                    P = min(alpha * (beta * (rr - margin) - guarantee), cap) \n",
    "            elif productType == 'FSRSK_':\n",
    "                rr = df_referenceRates.loc[df_referenceRates['jaar'] == t, 'referenceRatesRSK'].values[0]\n",
    "                P = alpha * max(beta * (rr - margin) - guarantee, 0)\n",
    "\n",
    "            # vaststellen profit sharing\n",
    "            if (productType == 'FSTRAD') | (productType == 'FSFSPD'):\n",
    "                GLA = V * FFMin1 * P\n",
    "                if deferredLossIndicator == 0:\n",
    "                    Aps = GLA\n",
    "                else:\n",
    "                    if DLAMin1 == 0:\n",
    "                        Aps = GLA\n",
    "                    else:\n",
    "                        Aps = max(GLA - DLAMin1, 0)\n",
    "                    #if V * P < 0:\n",
    "                    if GLA < 0:\n",
    "                        DLAMin1 = DLAMin1 - GLA\n",
    "                    elif DLAMin1 - GLA > 0:\n",
    "                        DLAMin1 = DLAMin1 - GLA\n",
    "                    else:\n",
    "                        DLAMin1 = 0 \n",
    "                if payoutIndicator == 0: # als payoutIndicator = 0: via cash, als = 1: via voorziening\n",
    "                    PS += Aps * (1 + cr)**(1 - tau) * Dbase\n",
    "                else:                    \n",
    "                    CFp = df_CFsPremies.loc[df_CFsPremies['LIAB_NAME'] == modelpunt, str(t)].values[0]                 \n",
    "                    if VMin1 == 0:\n",
    "                        RF = 0\n",
    "                    else:\n",
    "                        RF = max(min((V - CFp) / VMin1, 1), 0)\n",
    "                    VMin1 = V\n",
    "                    Vps = VpsMin1 * RF + Aps\n",
    "                    VpsMin1 = Vps\n",
    "                    if V != 0:\n",
    "                        FF = (V + Vps) / V\n",
    "                    else:\n",
    "                        FF = 1\n",
    "                    FFMin1 = FF\n",
    "                    CFu = df_CFsUitkeringen.loc[df_CFsUitkeringen['LIAB_NAME'] == modelpunt, str(t)].values[0]  \n",
    "                    CFps = CFu * (FF - 1)\n",
    "                    PS -= CFps * (1 + cr)**(1 - tau) * Dsim\n",
    "            elif productType == 'FSRSK_':\n",
    "                if P < df_RSKParameters.loc[1,'RSK_REFER_PC'] / 100:\n",
    "                    PR = (P - df_RSKParameters.loc[0,'RSK_REFER_PC'] / 100) * df_RSKParameters.loc[0,'RSK_SCALAR'] + df_RSKParameters.loc[0,'RSK_CONSTANT'] / 100\n",
    "                elif P < df_RSKParameters.loc[2,'RSK_REFER_PC'] / 100: \n",
    "                    PR = (P - df_RSKParameters.loc[1,'RSK_REFER_PC'] / 100) * df_RSKParameters.loc[1,'RSK_SCALAR'] + df_RSKParameters.loc[1,'RSK_CONSTANT'] / 100\n",
    "                elif P < df_RSKParameters.loc[3,'RSK_REFER_PC'] / 100: \n",
    "                    PR = (P - df_RSKParameters.loc[2,'RSK_REFER_PC'] / 100) * df_RSKParameters.loc[2,'RSK_SCALAR'] + df_RSKParameters.loc[2,'RSK_CONSTANT'] / 100\n",
    "                elif P < df_RSKParameters.loc[4,'RSK_REFER_PC'] / 100: \n",
    "                    PR = (P - df_RSKParameters.loc[3,'RSK_REFER_PC'] / 100) * df_RSKParameters.loc[3,'RSK_SCALAR'] + df_RSKParameters.loc[3,'RSK_CONSTANT'] / 100\n",
    "                elif P < df_RSKParameters.loc[5,'RSK_REFER_PC'] / 100: \n",
    "                    PR = (P - df_RSKParameters.loc[4,'RSK_REFER_PC'] / 100) * df_RSKParameters.loc[4,'RSK_SCALAR'] + df_RSKParameters.loc[4,'RSK_CONSTANT'] / 100\n",
    "                else:\n",
    "                    PR = df_RSKParameters.loc[5,'RSK_CONSTANT'] / 100 \n",
    "                CFrsk = df_CFsPremies.loc[df_CFsPremies['LIAB_NAME'] == modelpunt, str(t)].values[0] * PR\n",
    "                PS += CFrsk * (1 + cr)**(1 - tau) * Dbase\n",
    "\n",
    "        print(PS)"
   ]
  },
  {
   "cell_type": "code",
   "execution_count": null,
   "id": "885b66a7",
   "metadata": {},
   "outputs": [],
   "source": []
  },
  {
   "cell_type": "code",
   "execution_count": null,
   "id": "6418c08e",
   "metadata": {},
   "outputs": [],
   "source": []
  }
 ],
 "metadata": {
  "hide_input": false,
  "kernelspec": {
   "display_name": "Python 3 (ipykernel)",
   "language": "python",
   "name": "python3"
  },
  "language_info": {
   "codemirror_mode": {
    "name": "ipython",
    "version": 3
   },
   "file_extension": ".py",
   "mimetype": "text/x-python",
   "name": "python",
   "nbconvert_exporter": "python",
   "pygments_lexer": "ipython3",
   "version": "3.10.2"
  },
  "toc": {
   "base_numbering": 1,
   "nav_menu": {},
   "number_sections": true,
   "sideBar": true,
   "skip_h1_title": true,
   "title_cell": "Table of Contents",
   "title_sidebar": "Contents",
   "toc_cell": true,
   "toc_position": {
    "height": "calc(100% - 180px)",
    "left": "10px",
    "top": "150px",
    "width": "291.545px"
   },
   "toc_section_display": true,
   "toc_window_display": true
  }
 },
 "nbformat": 4,
 "nbformat_minor": 5
}
