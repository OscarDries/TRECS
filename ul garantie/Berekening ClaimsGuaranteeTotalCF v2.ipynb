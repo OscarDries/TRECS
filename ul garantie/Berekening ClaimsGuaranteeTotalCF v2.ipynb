{
 "cells": [
  {
   "cell_type": "markdown",
   "id": "7977e76f",
   "metadata": {},
   "source": [
    "<div class = \"row\">\n",
    "    <div class = \"colums\">\n",
    "        <img src=\"..\\trecslogo.png\" align=\"left\" alt=\"Drawing\" width =\"60\"/>    \n",
    "    </div>\n",
    "    <div class = \"colums\">\n",
    "        <img src=\"..\\asrlogo.png\" align=\"right\" alt=\"Drawing\" width =\"175\"/>\n",
    "    </div>    \n",
    "</div>"
   ]
  },
  {
   "cell_type": "markdown",
   "id": "07282f33",
   "metadata": {},
   "source": [
    "# UL GARANTIE POLISSEN"
   ]
  },
  {
   "cell_type": "markdown",
   "id": "e18f416b",
   "metadata": {
    "toc": true
   },
   "source": [
    "<h1>Table of Contents<span class=\"tocSkip\"></span></h1>\n",
    "<div class=\"toc\"><ul class=\"toc-item\"><li><span><a href=\"#Algemeen\" data-toc-modified-id=\"Algemeen-1\"><span class=\"toc-item-num\">1&nbsp;&nbsp;</span>Algemeen</a></span><ul class=\"toc-item\"><li><span><a href=\"#Import-en-instellingen\" data-toc-modified-id=\"Import-en-instellingen-1.1\"><span class=\"toc-item-num\">1.1&nbsp;&nbsp;</span>Import en instellingen</a></span></li><li><span><a href=\"#Aandelen-en-vastgoed-schokken\" data-toc-modified-id=\"Aandelen-en-vastgoed-schokken-1.2\"><span class=\"toc-item-num\">1.2&nbsp;&nbsp;</span>Aandelen en vastgoed schokken</a></span></li></ul></li><li><span><a href=\"#Importeer-data\" data-toc-modified-id=\"Importeer-data-2\"><span class=\"toc-item-num\">2&nbsp;&nbsp;</span>Importeer data</a></span><ul class=\"toc-item\"><li><span><a href=\"#MonthlyResults-garantiepolissen-van-SSC\" data-toc-modified-id=\"MonthlyResults-garantiepolissen-van-SSC-2.1\"><span class=\"toc-item-num\">2.1&nbsp;&nbsp;</span>MonthlyResults garantiepolissen van SSC</a></span></li><li><span><a href=\"#LifeRecords-UL-garantiepolissen\" data-toc-modified-id=\"LifeRecords-UL-garantiepolissen-2.2\"><span class=\"toc-item-num\">2.2&nbsp;&nbsp;</span>LifeRecords UL garantiepolissen</a></span></li><li><span><a href=\"#LifePolicyFunds-UL-garantiepolissen\" data-toc-modified-id=\"LifePolicyFunds-UL-garantiepolissen-2.3\"><span class=\"toc-item-num\">2.3&nbsp;&nbsp;</span>LifePolicyFunds UL garantiepolissen</a></span></li><li><span><a href=\"#Rentecurves-basis-en-stress\" data-toc-modified-id=\"Rentecurves-basis-en-stress-2.4\"><span class=\"toc-item-num\">2.4&nbsp;&nbsp;</span>Rentecurves basis en stress</a></span></li><li><span><a href=\"#Asset-mix-per-reporting-group\" data-toc-modified-id=\"Asset-mix-per-reporting-group-2.5\"><span class=\"toc-item-num\">2.5&nbsp;&nbsp;</span>Asset mix per reporting group</a></span></li></ul></li><li><span><a href=\"#Bereken-garantieclaim\" data-toc-modified-id=\"Bereken-garantieclaim-3\"><span class=\"toc-item-num\">3&nbsp;&nbsp;</span>Bereken garantieclaim</a></span><ul class=\"toc-item\"><li><span><a href=\"#Bereken-kasstromen-vóór-verzekeringstechnische-correctie\" data-toc-modified-id=\"Bereken-kasstromen-vóór-verzekeringstechnische-correctie-3.1\"><span class=\"toc-item-num\">3.1&nbsp;&nbsp;</span>Bereken kasstromen vóór verzekeringstechnische correctie</a></span></li><li><span><a href=\"#Bereken-fondswaarden-bij-aanvang\" data-toc-modified-id=\"Bereken-fondswaarden-bij-aanvang-3.2\"><span class=\"toc-item-num\">3.2&nbsp;&nbsp;</span>Bereken fondswaarden bij aanvang</a></span></li><li><span><a href=\"#Bereken-fondswaarden-voor-iedere-maand\" data-toc-modified-id=\"Bereken-fondswaarden-voor-iedere-maand-3.3\"><span class=\"toc-item-num\">3.3&nbsp;&nbsp;</span>Bereken fondswaarden voor iedere maand</a></span></li><li><span><a href=\"#Bereken-kasstroom-garantieclaim-op-einddatum\" data-toc-modified-id=\"Bereken-kasstroom-garantieclaim-op-einddatum-3.4\"><span class=\"toc-item-num\">3.4&nbsp;&nbsp;</span>Bereken kasstroom garantieclaim op einddatum</a></span></li><li><span><a href=\"#Bereken-waarde-garantieclaim\" data-toc-modified-id=\"Bereken-waarde-garantieclaim-3.5\"><span class=\"toc-item-num\">3.5&nbsp;&nbsp;</span>Bereken waarde garantieclaim</a></span></li></ul></li><li><span><a href=\"#Controle-berekeningen\" data-toc-modified-id=\"Controle-berekeningen-4\"><span class=\"toc-item-num\">4&nbsp;&nbsp;</span>Controle berekeningen</a></span><ul class=\"toc-item\"><li><span><a href=\"#Controle-1\" data-toc-modified-id=\"Controle-1-4.1\"><span class=\"toc-item-num\">4.1&nbsp;&nbsp;</span>Controle 1</a></span></li><li><span><a href=\"#Controle-2\" data-toc-modified-id=\"Controle-2-4.2\"><span class=\"toc-item-num\">4.2&nbsp;&nbsp;</span>Controle 2</a></span></li><li><span><a href=\"#Controle-3\" data-toc-modified-id=\"Controle-3-4.3\"><span class=\"toc-item-num\">4.3&nbsp;&nbsp;</span>Controle 3</a></span></li></ul></li></ul></div>"
   ]
  },
  {
   "cell_type": "markdown",
   "id": "35b0ef00",
   "metadata": {},
   "source": [
    "## Algemeen"
   ]
  },
  {
   "cell_type": "markdown",
   "id": "650ecb76",
   "metadata": {},
   "source": [
    "### Import en instellingen"
   ]
  },
  {
   "cell_type": "code",
   "execution_count": 1,
   "id": "c3e058d9",
   "metadata": {},
   "outputs": [],
   "source": [
    "import pandas as pd\n",
    "import numpy as np\n",
    "import warnings\n",
    "from matplotlib import pyplot as plt"
   ]
  },
  {
   "cell_type": "markdown",
   "id": "405e0659",
   "metadata": {},
   "source": [
    "Links uitlijnen tabellen"
   ]
  },
  {
   "cell_type": "code",
   "execution_count": 2,
   "id": "3f811199",
   "metadata": {},
   "outputs": [
    {
     "data": {
      "text/html": [
       "<style>\n",
       "    table {\n",
       "        display: inline-block\n",
       "    }\n",
       "</style>\n"
      ],
      "text/plain": [
       "<IPython.core.display.HTML object>"
      ]
     },
     "metadata": {},
     "output_type": "display_data"
    }
   ],
   "source": [
    "%%html\n",
    "<style>\n",
    "    table {\n",
    "        display: inline-block\n",
    "    }\n",
    "</style>"
   ]
  },
  {
   "cell_type": "markdown",
   "id": "8e108410",
   "metadata": {},
   "source": [
    "Bij printen van een dataframe wordt slechts een beperkt aantal rijen getoond."
   ]
  },
  {
   "cell_type": "code",
   "execution_count": 3,
   "id": "5d54774e",
   "metadata": {},
   "outputs": [],
   "source": [
    "pd.set_option('display.max_rows', 15)"
   ]
  },
  {
   "cell_type": "markdown",
   "id": "8f6866bc",
   "metadata": {},
   "source": [
    "### Aandelen en vastgoed schokken"
   ]
  },
  {
   "cell_type": "code",
   "execution_count": null,
   "id": "2284539a",
   "metadata": {},
   "outputs": [],
   "source": [
    "factorEquityShock = float(input(\"Voer de aandelen na schok in, bijv. '0.9' :\"))\n",
    "factorRealEstateShock = float(input(\"Voer de vastgoed na schok in, bijv. '0.9' :\"))\n",
    "factorEquityShock"
   ]
  },
  {
   "cell_type": "markdown",
   "id": "e74a5524",
   "metadata": {},
   "source": [
    "## Importeer data"
   ]
  },
  {
   "cell_type": "markdown",
   "id": "be1ef8ee",
   "metadata": {},
   "source": [
    "### MonthlyResults garantiepolissen van SSC\n",
    "Alle data zijn per 20210930. Dit bestand betreft 14 UL garantiepolissen, namelijk voor iedere producgroep 1 polis. Op dit moment is per polis alleen de betreffende productgroep meegegeven, dus het polisnummer ontbreekt nog in dit bestand. Alleen dié kolommen worden uit het bestand geselecteerd die in het vervolg gebruikt zullen worden.\n",
    "\n",
    "SSC werkt aan het structureel inrichten van de levering van alle (40k) UL garantiepolissen ieder kwartaal."
   ]
  },
  {
   "cell_type": "code",
   "execution_count": null,
   "id": "067464ab",
   "metadata": {
    "scrolled": true
   },
   "outputs": [],
   "source": [
    "col_list = ['Timestep','ReportingGroup','NumberOfPoliciesPremiumPaying','NumberOfPoliciesPremiumEnded','NumberOfPoliciesPaidUp'\\\n",
    "          ,'CostLoadingTotal','RiskPremiumTariff','PremiumGrossRegularCashFlow','FundFeeTotal','ReserveGrossUnitLinked'\\\n",
    "          ,'ClaimsGuaranteeTotalCashFlow','ClaimsGuaranteeTotalPresentValue']\n",
    "df = pd.read_csv(r\"monthlyresults(gamma-acceptatie)-job58-run5040.csv\",sep = \";\",low_memory = False, decimal = ',', usecols = col_list)\n",
    "df"
   ]
  },
  {
   "cell_type": "markdown",
   "id": "3c49d8cf",
   "metadata": {},
   "source": [
    "### LifeRecords UL garantiepolissen"
   ]
  },
  {
   "cell_type": "code",
   "execution_count": null,
   "id": "bda65be6",
   "metadata": {},
   "outputs": [],
   "source": [
    "col_list = ['POLICYID','POLICYENDMONTH','REPORTINGGROUP']\n",
    "df_records = pd.read_excel(r\"LIFERECORDS_20220126_v1.25.6_PRD (ProductGroup ingevuld).xlsx\", usecols = col_list)\n",
    "df_records['POLICYID'] = df_records['POLICYID'].apply(str)\n",
    "df_records"
   ]
  },
  {
   "cell_type": "markdown",
   "id": "ca49cc43",
   "metadata": {},
   "source": [
    "### LifePolicyFunds UL garantiepolissen"
   ]
  },
  {
   "cell_type": "code",
   "execution_count": null,
   "id": "21614344",
   "metadata": {},
   "outputs": [],
   "source": [
    "col_list = ['POLICYID','FUNDGUARANTEEDCAPITAL']\n",
    "df_funds = pd.read_csv(r\"LIFEPOLICYFUNDS_20220126_v1.25.6_PRD.csv\",sep = \";\", decimal = ',', usecols = col_list)\n",
    "df_funds['POLICYID'] = df_funds['POLICYID'].apply(str)\n",
    "df_funds"
   ]
  },
  {
   "cell_type": "markdown",
   "id": "8457bd96",
   "metadata": {},
   "source": [
    "### Rentecurves basis en stress\n",
    "De maandelijkse return wordt niet door Gamma geleverd, maar moet zelf uit curve worden gedestilleerd. Dit gaat nog fout in Gamma. Zou forward rente moeten zijn, maar is de spot rente. Wordt nog aangepast in Gamma. Voorlopig sluiten we hier aan met Gamma, en hanteren dus (onterecht) de spotrente."
   ]
  },
  {
   "cell_type": "code",
   "execution_count": null,
   "id": "0f91297d",
   "metadata": {},
   "outputs": [],
   "source": [
    "curvesYear = pd.read_csv(r\"Rentecurves basis en basis.csv\",sep = \";\",decimal = ',')\n",
    "curvesYear"
   ]
  },
  {
   "cell_type": "markdown",
   "id": "1786a569",
   "metadata": {},
   "source": [
    "De ingelezen curves zijn op jaarbasis. De data van SSC is op maandbasis, waarvoor rentes op maandbasis nodig zijn. De maandelijkse rentecurves worden verkregen door lineair te interpoleren tussen de jaar data."
   ]
  },
  {
   "cell_type": "code",
   "execution_count": null,
   "id": "4000b80c",
   "metadata": {},
   "outputs": [],
   "source": [
    "month = range(0,1202)\n",
    "curveMonthBase_array = np.interp(month,curvesYear['jaar']*12,curvesYear['swap.cra.zero.sw360'])\n",
    "curveMonthStress_array = np.interp(month,curvesYear['jaar']*12,curvesYear['stress'])\n",
    "curveMonthBase_series = pd.Series(curveMonthBase_array, index = month)\n",
    "curveMonthStress_series = pd.Series(curveMonthStress_array, index = month)\n",
    "curveMonthBase_series"
   ]
  },
  {
   "cell_type": "markdown",
   "id": "5e8a4110",
   "metadata": {},
   "source": [
    "De geïnterpoleerde rentes op maandbasis worden aan het dataframe toegevoegd."
   ]
  },
  {
   "cell_type": "code",
   "execution_count": null,
   "id": "5826795d",
   "metadata": {},
   "outputs": [],
   "source": [
    "df['returnsBase'] = [curveMonthBase_series[t] for t in df['Timestep']]\n",
    "df['returnsStress'] = [curveMonthStress_series[t] for t in df['Timestep']]\n",
    "\n",
    "df"
   ]
  },
  {
   "cell_type": "markdown",
   "id": "b94e1b8a",
   "metadata": {},
   "source": [
    "### Asset mix per reporting group\n",
    "De excel met de asset mix per reporting group is zelf gemaakt. De basis hiervoor is een excel van SSC (Chantal Jansen) geweest."
   ]
  },
  {
   "cell_type": "code",
   "execution_count": null,
   "id": "12f757ae",
   "metadata": {
    "scrolled": true
   },
   "outputs": [],
   "source": [
    "col_list = ['ReportingGroup', 'percentageAandelen', 'percentageVastgoed', 'percentageVastrentend']\n",
    "df_assetmix = pd.read_excel(r\"asset mix per reporting group.xlsx\", usecols = col_list)\n",
    "df_assetmix"
   ]
  },
  {
   "cell_type": "markdown",
   "id": "52f2b488",
   "metadata": {},
   "source": [
    "## Bereken garantieclaim\n",
    "De garantieclaim is het bedrag dat a.s.r. extra dient bij te leggen in geval dat de fondswaarde op einddatum van de polis lager uitvalt dat het garantiekapitaal met betrekking tot het betreffende fonds. \n",
    "\n",
    "Merk op dat de data die FRMMB ontvangt van SSC op polisniveau is in plaats van het onderliggende fondsniveau. Een polis kan uit 1 of meer fondsen bestaan. Omdat garanties zijn gegeven op fondsniveau (i.p.v. op polisniveau) kan de berekening van de garantieclaim in dit notebook afwijken van de werkelijke waarde. \n",
    "\n",
    "Uitgangspunt is dat slechts afwijkingen slechts voor een relatief beperkt aantal polissen optreden. Dit uitgangspunt wordt getoetst in de paragraaf Controle berekeningen.\n",
    "\n",
    "De berekening van de waarde van de garantieclaim per polis gaat via de volgende stappen:\n",
    "- Bereken kasstromen vóór verzekeringstechnische correctie\n",
    "- Bereken fondswaarden bij aanvang\n",
    "- Bereken fondswaarden voor iedere maand\n",
    "- Bereken kasstroom garantieclaim op einddatum\n",
    "- Bereken waarde garantieclaim"
   ]
  },
  {
   "cell_type": "markdown",
   "id": "737e4579",
   "metadata": {},
   "source": [
    "### Bereken kasstromen vóór verzekeringstechnische correctie\n",
    "De SSC data mbt de kosten, risicopremies, premiestortingen en beleggingsfees zijn allemaal gewogen met het aantal resterende mensen (verzekeringstechnische correctie). Om de fondswaarde op einddatum te bepalen en te vergelijken met het garantiekapitaal moet hiervoor eerst worden gecorrigeerd. Het garantiekapitaal is namelijk nog vóór verzekeringstechnische correctie. "
   ]
  },
  {
   "cell_type": "markdown",
   "id": "aac73419",
   "metadata": {},
   "source": [
    "Joost van Geffen van SSC meldt het volgende:\n",
    "\n",
    "_Bij de fondsontwikkeling PaidUp heb ik de aanname gedaan dat de Risicopremie 1/6 is van de risicopremie bij status PrP. De risicopremie wordt in de GAMMA prognose een stuk lager wanneer een polis van premiebetalend naar status paidup gaat. In de sheet heb ik geschat dat de risicopremie 1/6 wordt van de oorspronkelijke risicopremie._\n",
    "\n",
    "_Bovenstaande methodiek is niet helemaal zuiver. De risicopremie in de GAMMA output is een combinatie van Risicopremie_GAMMA = Risicopremie_PrP x Numberofpolicies_PrP+ Risicopremie_PuP x Numberofpolicies_PuP._\n",
    "\n",
    "_Omdat de Risicopremie_PuP en de Numberofpolicies_PuP een stuk kleiner zijn dan in het scenario premiebetalend heb ik in de sheet het volgende gedaan:_\n",
    "- _Risicopremie_PrP = Risicopremie_GAMMA/ Numberofpolicies_PrP_\n",
    "- _Risicopremie_PuP = Risicopremie_PrP /6_\n",
    "\n",
    "_Omdat de Risicopremie_PuP en de Numberofpolicies_PuP beide klein zijn is de impact van de aanname 6 ook klein._"
   ]
  },
  {
   "cell_type": "markdown",
   "id": "2774e79a",
   "metadata": {},
   "source": [
    "De volgende vergelijkingen gelden. De betreffende kasstromen vóór verzekeringstechnische correctie worden aan het dataframe toegevoegd."
   ]
  },
  {
   "cell_type": "markdown",
   "id": "e6636bbb",
   "metadata": {},
   "source": [
    "$$\n",
    "\\begin{align}\n",
    "CL_t^{g} &=CL_t \\cdot n_{t-1}^{pp}+CL_t \\cdot n_{t-1}^{pe}+CL_t \\cdot n_{t-1}^{pu}=CL_t \\cdot\\left(n_{t-1}^{pp}+n_{t-1}^{pe}+n_{t-1}^{pu}\\right) \\\\\n",
    "RP_t^{g} &=RP_t \\cdot\\left(n_{t-1}^{pp}+n_{t-1}^{pe}+\\frac{1}{6}n_{t-1}^{pu}\\right) \\\\\n",
    "P_t^{g} &=P_t \\cdot n_{t-1}^{pp} \\\\\n",
    "FF_t^{g} &=FF_t \\cdot\\left(n_{t-1}^{pp}+n_{t-1}^{pe}+n_{t-1}^{pu}\\right) \n",
    "\\end{align} \\\\\n",
    "$$\n",
    "\n",
    "|variabele|betekenis|\n",
    "|:---|:---|\n",
    "|$CL_t^{g}$ | cost loading opt t uit gamma data na verzekeringstechnische correctie|\n",
    "|$CL_t$ | cost loading op t voor verzekeringstechnische correctie|\n",
    "|$RP_t^{g}$ | risk premium opt t uit gamma data na verzekeringstechnische correctie|\n",
    "|$RP_t$ | risk premium op t voor verzekeringstechnische correctie|\n",
    "|$P_t^{g}$ | premium opt t uit gamma data na verzekeringstechnische correctie|\n",
    "|$P_t$ | premium op t voor verzekeringstechnische correctie|\n",
    "|$FF_t^{g}$ | fund fee opt t uit gamma data na verzekeringstechnische correctie|\n",
    "|$FF_t$ | fund fee op t voor verzekeringstechnische correctie|\n",
    "|$n_{t-1}^{pp}$ | NumberOfPoliciesPremiumPaying op t-1|\n",
    "|$n_{t-1}^{pe}$ | NumberOfPoliciesPremiumEnded op t-1|\n",
    "|$n_{t-1}^{pu}$ | NumberOfPoliciesPaidUp op t-1|\n"
   ]
  },
  {
   "cell_type": "code",
   "execution_count": null,
   "id": "3971f4b5",
   "metadata": {},
   "outputs": [],
   "source": [
    "df['CL'] = -df['CostLoadingTotal'] / (df['NumberOfPoliciesPremiumPaying'].shift(1) \\\n",
    "                                           +df['NumberOfPoliciesPremiumEnded'].shift(1) \\\n",
    "                                           +df['NumberOfPoliciesPaidUp'].shift(1))\n",
    "df['RP'] = -df['RiskPremiumTariff'] / (df['NumberOfPoliciesPremiumPaying'].shift(1) \\\n",
    "                                           +df['NumberOfPoliciesPremiumEnded'].shift(1) \\\n",
    "                                           +df['NumberOfPoliciesPaidUp'].shift(1)/6)\n",
    "df['P'] = df['PremiumGrossRegularCashFlow'] / df['NumberOfPoliciesPremiumPaying'].shift(1)\n",
    "df['FF'] = -df['FundFeeTotal'] / (df['NumberOfPoliciesPremiumPaying'].shift(1) \\\n",
    "                                           +df['NumberOfPoliciesPremiumEnded'].shift(1) \\\n",
    "                                           +df['NumberOfPoliciesPaidUp'].shift(1))\n",
    "df"
   ]
  },
  {
   "cell_type": "markdown",
   "id": "286bc9b7",
   "metadata": {},
   "source": [
    "### Bereken fondswaarden bij aanvang\n",
    "De data die SSC aanlevert betreft data in het basis scenario. In geval dat sprake is van een rentescenario of een aandelenscenario is sprake van een schok bij aanvang en dienen de fondswaarden bij aanvang te worden gecorrigeerd. \n",
    "\n",
    "In geval van een renteschok dient de waarde aangepast te worden op basis van het percentage vastrentende waarden in de asset mix van het fonds én de duratie van deze vastrentende waarden. In geval van een aandelenschok dient de waarde aangepast te worden op basis van het percentage aandelen in de asset mix van het fonds. \n",
    "\n",
    "De asset mix per fonds en de duratie van de vastrentende waarden in het fonds zijn door SSC vastgesteld op niveau van productgroep. In principe zou dit op niveau van fonds moeten worden vastgesteld, maar hier neemt SSC dus een shortcut. De duratie van de vastrentende waarden is default door SSC ingesteld op 5.\n",
    "\n",
    "De initiële fondswaarden betreffen de totale waarden van alle onderliggende fondsen en zijn zodoende gelijk aan de omvang van de UL voorziening (ReserveGrossUnitLinked). De totale initiële fondswaarden na correctie van de economische schokken worden aan het dataframe toegevoegd.\n",
    "\n",
    "De aandelen- en vastgoed schokken zijn hierboven door de gebruiker als input meegegeven. De renteschok wordt afgeleid uit de geïmporteerde basis- en stresscurve."
   ]
  },
  {
   "cell_type": "code",
   "execution_count": null,
   "id": "267d8834",
   "metadata": {},
   "outputs": [],
   "source": [
    "factorInterestRateShock = (1+curvesYear['swap.cra.zero.sw360'][4])**5 / (1+curvesYear['stress'][4])**5\n",
    "factorInterestRateShock"
   ]
  },
  {
   "cell_type": "markdown",
   "id": "53c20c5c",
   "metadata": {},
   "source": [
    "De initiële waarde van de voorziening van de polis na totale economische schok 'factorEconomicShock' kan nu worden berekend als:\n",
    "\n",
    "$$\n",
    "V_0^{pp} = V_0 \\cdot F^{Ec} \\\\\n",
    "V_0^{pe} = V_0 \\cdot F^{Ec} \\\\\n",
    "V_0^{pu} = V_0 \\cdot F^{Ec} \\\\\n",
    "$$\n",
    "met\n",
    "$$\n",
    "F^{Ec} = m^{Eq}\\cdot F^{Eq} + m^{RE}\\cdot F^{RE} + m^{FI}\\cdot F^{I}\n",
    "$$\n",
    "\n",
    "|variabele|betekenis|\n",
    "|:---|:---|\n",
    "|$F^{Ec}$ | factor total economic shock at $t=0$|\n",
    "|$F^{Eq}$ | factor equity shock at $t=0$|\n",
    "|$F^{RE}$ | factor real estate shock at $t=0$|\n",
    "|$F^{I}$ | factor intest rate shock at $t=0$|\n",
    "|$m^{Eq}$ | percentage equity in asset mix|\n",
    "|$m^{RE}$ | percentage real estate in asset mix|\n",
    "|$m^{FI}$ | percentage  fixed income in asset mix|"
   ]
  },
  {
   "cell_type": "markdown",
   "id": "70815713",
   "metadata": {},
   "source": [
    "Bepaal de factor total economic shock per reporting group. Voeg deze toe aan dataframe asset mix."
   ]
  },
  {
   "cell_type": "code",
   "execution_count": null,
   "id": "9a6731ec",
   "metadata": {},
   "outputs": [],
   "source": [
    "df_assetmix['factorEconomicShock'] = df_assetmix['percentageAandelen'] * factorEquityShock \\\n",
    "                                    + df_assetmix['percentageVastgoed']*factorRealEstateShock \\\n",
    "                                    + df_assetmix['percentageVastrentend']*factorInterestRateShock\n",
    "df_assetmix['Timestep'] = 0\n",
    "df_assetmix"
   ]
  },
  {
   "cell_type": "markdown",
   "id": "e9bbd03b",
   "metadata": {},
   "source": [
    "Voeg de factor total economic shock via een merge toe aan het dataframe. Deze dienen te worden ingevuld daar waar de Timestep gelijk is aan 0 en zijn afhankelijk van de reporting group."
   ]
  },
  {
   "cell_type": "code",
   "execution_count": null,
   "id": "e98b87d2",
   "metadata": {},
   "outputs": [],
   "source": [
    "df = pd.merge(df, df_assetmix, how = 'left', on = ['ReportingGroup','Timestep'])\n",
    "df"
   ]
  },
  {
   "cell_type": "code",
   "execution_count": null,
   "id": "b67d4761",
   "metadata": {},
   "outputs": [],
   "source": [
    "df['FundValuePP'] = [df.loc[t, 'ReserveGrossUnitLinked']*df.loc[t, 'factorEconomicShock'] if df.loc[t,'Timestep'] == 0 else 0 for t in df.index]\n",
    "df['FundValuePE'] = [df.loc[t, 'ReserveGrossUnitLinked']*df.loc[t, 'factorEconomicShock'] if df.loc[t,'Timestep'] == 0 else 0 for t in df.index]\n",
    "df['FundValuePU'] = [df.loc[t, 'ReserveGrossUnitLinked']*df.loc[t, 'factorEconomicShock'] if df.loc[t,'Timestep'] == 0 else 0 for t in df.index]\n",
    "\n",
    "df"
   ]
  },
  {
   "cell_type": "markdown",
   "id": "1a682686",
   "metadata": {},
   "source": [
    "### Bereken fondswaarden voor iedere maand\n",
    "De totale ReserveGrossUnitLinked wordt berekend als de optelsom van de fondswaarden maal de mensaantallen die horen bij verschillende soorten situaties, namelijk premiebetalend (premium paying), beëindigde premiebetaling volgens contract (premium ended) en beëindigde premiebetaling door niet volgens contract (paid up). \n",
    "\n",
    "Merk op dat er geen sprake meer is van fondswaarde (en dus ook voorziening) indien sprake is van overlijden, lapse en bereiken van einddatum van polis. \n",
    "\n",
    "De ontwikkeling van de fondswaarde is afhankelijk van de situatie van de mens (premium paying, premium ended en paid up), en daarom wordt voor iedere situatie de fondswaarde berekend.\n",
    "\n",
    "Gegeven de fondswaarde (ReserveGrossUnitLinked) op t=0, kan voor iedere maand daarna de fondswaarde worden berekend als functie van de verschillende kasstromen en het fondsrendement. De kasstromen betreffen kosten, risicopremies, premies en fund fees. De fondswaarden voor iedere maand worden aan het dataframe toegevoegd. \n",
    "\n",
    "$$\n",
    "\\begin{align}\n",
    "V_t &= V_t^{pp} + V_t^{pe} + V_t^{pu} \\\\\n",
    "&= A_t^{pp} \\cdot n_t^{pp} + A_t^{ep} \\cdot n_t^{pe} + A_t^{pu} \\cdot n_t^{pu} \\\\\n",
    "\\end{align} \\\\\n",
    "$$\n",
    "\n",
    "waarbij\n",
    "\n",
    "$$\n",
    "\\begin{align}\n",
    "V_t^{pp} &= \\left(A_{t-1}^{pp} + CL_t + RP_t + P_t + FF_t + A_{t-1}^{pp} \\cdot r_t\\right) \\cdot n_{t-1}^{pp} + A_{t-1}^{pp} \\cdot \\left(n_t^{pp} - n_{t-1}^{pp} \\right) \\\\\n",
    "&= A_{t-1}^{pp}\\cdot n_t^{pp} + \\left(CL_t + RP_t + P_t + FF_t + A_{t-1}^{pp} \\cdot r_t\\right) \\cdot n_{t-1}^{pp} \\\\\n",
    "\\\\\n",
    "V_t^{pe} &= \\left(A_{t-1}^{pe} + CL_t + RP_t + FF_t + A_{t-1}^{pe} \\cdot r_t\\right) \\cdot n_{t-1}^{pe} + deltaFonds \\\\\n",
    "\\end{align}\n",
    "$$\n",
    "\n",
    "met deltaFonds = $A_{t-1}^{pe} \\cdot \\left(n_t^{pe} - n_{t-1}^{pe} \\right)$ als $n_{t-1}^{pp} = 0$ \\\n",
    "met deltaFonds = $A_{t-1}^{pp} \\cdot \\left(n_t^{pe} - n_{t-1}^{pe} \\right)$ als $n_{t-1}^{pp} > 0$\n",
    "\n",
    "$$\n",
    "V_t^{pu} = \\left(A_{t-1}^{pu} + CL_t + \\frac{1}{6}RP_t + FF_t + A_{t-1}^{pu} \\cdot r_t\\right) \\cdot n_{t-1}^{pu} + A_{t-1}^{pp} \\cdot \\left(n_t^{pu} - n_{t-1}^{pu} \\right) \\\\\n",
    "$$\n",
    "\n",
    "\n",
    "|variabele|betekenis|\n",
    "|:---|:---|\n",
    "|$V_t$ | ReserveGrossUnitLinked voor correctie aantal mensen|\n",
    "|$V_t^{pp}$ | ReserveGrossUnitLinked mbt premiebetalende polissen|\n",
    "|$V_t^{pe}$ | ReserveGrossUnitLinked mbt polissen die volgens contract premievrij zijn gemaakt|\n",
    "|$V_t^{pu}$ | ReserveGrossUnitLinked mbt polissen die niet volgens contract premievrij zijn gemaakt|\n",
    "|$A_t^{pp}$ | Fondswaarde van premiebetalende mensen voor correctie aantal mensen|\n",
    "|$A_t^{pe}$ | Fondswaarde van mensen die volgens contract premie hebben stop gezet voor correctie aantal mensen|\n",
    "|$A_t^{pu}$ | Fondswaarde van mensen die niet volgens contract premie hebben stop gezet voor correctie aantal mensen|\n",
    "|$CL_t$ | Kosten (cost loading) op t|\n",
    "|$RP_t$ |Risicopremie op t|\n",
    "|$P_t$ |Premie(storting) op t|\n",
    "|$FF_t$ |Fund fee op t|\n",
    "|$r_t$ |rendement op t|"
   ]
  },
  {
   "cell_type": "code",
   "execution_count": null,
   "id": "e8a24014",
   "metadata": {
    "scrolled": true
   },
   "outputs": [],
   "source": [
    "for x in df.index:\n",
    "    if df['Timestep'][x] != 0: \n",
    "        # PP\n",
    "        if df['NumberOfPoliciesPremiumPaying'][x] != 0:\n",
    "            df.loc[x,'FundValuePP'] = max(0,df['FundValuePP'][x-1]+(df['CL'][x]+df['RP'][x]+df['P'][x]+df['FF'][x] \\\n",
    "                                                          +df['FundValuePP'][x-1]*((1+df['returnsStress'][x])**(1/12)-1)) \\\n",
    "                                          *df['NumberOfPoliciesPremiumPaying'][x-1]/df['NumberOfPoliciesPremiumPaying'][x]) \n",
    "        else:\n",
    "            df.loc[x,'FundValuePP']=0\n",
    "            \n",
    "        # PE\n",
    "        if df['NumberOfPoliciesPremiumPaying'][x-1] == 0:\n",
    "            fundValue = df['FundValuePE'][x-1]\n",
    "        else:\n",
    "            fundValue = df['FundValuePP'][x-1]\n",
    "        \n",
    "        if df['NumberOfPoliciesPremiumEnded'][x] != 0:\n",
    "            df.loc[x,'FundValuePE'] = max(0,(df['FundValuePE'][x-1]+df['CL'][x]+df['RP'][x]+df['FF'][x] \\\n",
    "                                                          +df['FundValuePE'][x-1]*((1+df['returnsStress'][x])**(1/12)-1)) \\\n",
    "                                          *df['NumberOfPoliciesPremiumEnded'][x-1]/df['NumberOfPoliciesPremiumEnded'][x] \\\n",
    "                                          +fundValue*(df['NumberOfPoliciesPremiumEnded'][x]-df['NumberOfPoliciesPremiumEnded'][x-1]) \\\n",
    "                                          / df['NumberOfPoliciesPremiumEnded'][x])\n",
    "        else:\n",
    "            df.loc[x,'FundValuePE']=0      \n",
    "        \n",
    "        # PU\n",
    "        if df['NumberOfPoliciesPaidUp'][x] != 0:\n",
    "            df.loc[x,'FundValuePU'] = max(0,(df['FundValuePU'][x-1]+df['CL'][x]+df['RP'][x]/6+df['FF'][x] \\\n",
    "                                                          +df['FundValuePU'][x-1]*((1+df['returnsStress'][x])**(1/12)-1)) \\\n",
    "                                          *df['NumberOfPoliciesPaidUp'][x-1]/df['NumberOfPoliciesPaidUp'][x] \\\n",
    "                                          +df['FundValuePP'][x-1]*(df['NumberOfPoliciesPaidUp'][x]-df['NumberOfPoliciesPaidUp'][x-1]) \\\n",
    "                                          /df['NumberOfPoliciesPaidUp'][x])\n",
    "        else:\n",
    "            df.loc[x,'FundValuePU']=0        \n",
    "\n",
    "#df\n",
    "df.to_excel('outputDF.xlsx')"
   ]
  },
  {
   "cell_type": "markdown",
   "id": "fb4e1818",
   "metadata": {},
   "source": [
    "### Bereken kasstroom garantieclaim op einddatum\n",
    "De ClaimsGuaranteeTotalCashflow betreft het bedrag dat a.s.r. op einddatum dient bij te storten in geval dat de fondswaarde lager uitvalt dan het gegarandeerde kapitaal. De ClaimsGuaranteeTotalCashflow is na verzekeringstechnische correctie en wordt als volgt berekend:\n",
    "\n",
    "$$\n",
    "CGTCF_T = max \\left(0,K \\cdot \\left(n_T^{pp}+n_T^{pe}\\right) - \\left(A_T^{pp} \\cdot n_T^{pp} + A_T^{pe} \\cdot n_T^{pe}\\right) \\right)\n",
    "$$\n",
    "\n",
    "|variabele|betekenis|\n",
    "|:---|:---|\n",
    "|$$CGTCF_T$$ | De ClaimsGuaranteeTotalCashflow op einddatum $T$ na verzekeringstechnische correctie|\n",
    "|$K$| Het gerarandeerde kapitaal op einddatum $T$|"
   ]
  },
  {
   "cell_type": "markdown",
   "id": "d3386736",
   "metadata": {},
   "source": [
    "Het gegarandeerde kapitaal is gelinkt aan het polisnummer. Het polisnummer is gelinkt aan de productgroep. De productgroep is gelinkt aan de berekende fondswaarden. Via een aantal merge acties wordt de link gelegd tussen polisnummer, garantiekapitaal en fondswaarde op einddatum. Vervolgens kan de kasstroom garantieclaim worden bepaald."
   ]
  },
  {
   "cell_type": "markdown",
   "id": "c948015e",
   "metadata": {},
   "source": [
    "Aan het dataframe records moet het garantiekapitaal worden toegevoegd. Het garantiekapitaal is per fonds per polis. Aangezien SSC kasstroom data op polisniveau levert, moeten de garantiekapitalen per polis worden geaggregeerd over de onderliggende fondsen. Het garantiekapitaal per fonds per polis is te vinden in LifePolicyFunds. Aggregeer de garantiekapitalen per polis"
   ]
  },
  {
   "cell_type": "code",
   "execution_count": null,
   "id": "531ec8c6",
   "metadata": {},
   "outputs": [],
   "source": [
    "df_funds = df_funds.groupby('POLICYID').sum()\n",
    "df_funds"
   ]
  },
  {
   "cell_type": "markdown",
   "id": "2d605bdb",
   "metadata": {},
   "source": [
    "Voeg de garantiekapitalen toe aan dataframe df_records"
   ]
  },
  {
   "cell_type": "code",
   "execution_count": null,
   "id": "9e88f3bc",
   "metadata": {},
   "outputs": [],
   "source": [
    "df_records = pd.merge(df_records, df_funds, how='left', on='POLICYID')\n",
    "df_records"
   ]
  },
  {
   "cell_type": "markdown",
   "id": "0364a038",
   "metadata": {},
   "source": [
    "De kolom PolicyEndMonth wordt met 1 maand verschoven, omdat de mensaantallen niet op einddatum bekend zijn in de kasstroom data van SSC."
   ]
  },
  {
   "cell_type": "code",
   "execution_count": null,
   "id": "a6c2b515",
   "metadata": {},
   "outputs": [],
   "source": [
    "df_records['POLICYENDMONTH-1'] = df_records['POLICYENDMONTH']-1\n",
    "df_records"
   ]
  },
  {
   "cell_type": "markdown",
   "id": "1a26be5c",
   "metadata": {},
   "source": [
    "Aan dataframe df_records worden nu de variabelen toegevoegd uit dataframe df, waarmee de ClaimsGuaranteeTotalCashFlow kan worden berekend. Dat zijn FundValuePP, FundValuePE en FundValuePU op einddatum-1 en de mensaantallen per einddatum-1 (want de mensaantallen op einddatum zijn niet bekend in de Gamma output). Ook de returns worden toegevoegd om hierna de ClaimsGuaranteeTotalPresentValue te kunnen berekenen."
   ]
  },
  {
   "cell_type": "code",
   "execution_count": null,
   "id": "c8073928",
   "metadata": {},
   "outputs": [],
   "source": [
    "df_records = pd.merge(df_records, df[['ReportingGroup', 'Timestep', 'FundValuePP', 'FundValuePE', 'FundValuePU', \\\n",
    "                                      'NumberOfPoliciesPremiumPaying', 'NumberOfPoliciesPremiumEnded', 'NumberOfPoliciesPaidUp', 'returnsStress']], \\\n",
    "                      left_on = ['REPORTINGGROUP','POLICYENDMONTH-1'], right_on = ['ReportingGroup', 'Timestep'], \\\n",
    "                      how='left').drop(['ReportingGroup', 'Timestep'], axis =1)\n",
    "df_records"
   ]
  },
  {
   "cell_type": "markdown",
   "id": "f6104b52",
   "metadata": {},
   "source": [
    "En nu zijn we zover dat we de ClaimsGuaranteeTotalCashFlow per polis op einddatum-1 kunnen berekenen conform bovenstaand formularium. De betreffende waarden worden in de kolom ClaimsGuaranteeTotalCashFlow_calc toegevoegd aan het dataframe records."
   ]
  },
  {
   "cell_type": "code",
   "execution_count": null,
   "id": "ed764db3",
   "metadata": {},
   "outputs": [],
   "source": [
    "df_records['ClaimsGuaranteeTotalCashFlow_calc'] = df_records['FUNDGUARANTEEDCAPITAL']*(df_records['NumberOfPoliciesPremiumPaying'] \\\n",
    "            + df_records['NumberOfPoliciesPremiumEnded'])-(df_records['FundValuePP']*df_records['NumberOfPoliciesPremiumPaying'] \\\n",
    "            + df_records['FundValuePE']*df_records['NumberOfPoliciesPremiumEnded'])\n",
    "\n",
    "df_records['ClaimsGuaranteeTotalCashFlow_calc'] = -np.where(df_records['ClaimsGuaranteeTotalCashFlow_calc'] < 0, 0, \\\n",
    "                                                           df_records['ClaimsGuaranteeTotalCashFlow_calc'])\n",
    "df_records"
   ]
  },
  {
   "cell_type": "markdown",
   "id": "0e756cd6",
   "metadata": {},
   "source": [
    "### Bereken waarde garantieclaim\n",
    "De waarde van de garantieclaim is de contante waarde van de kasstroom garantieclaim en wordt als volgt berekend:\n",
    "\n",
    "$$\n",
    "CGTPV_T = \\frac{CGTCF_T}{(1+r)^T}\n",
    "$$\n",
    "\n",
    "|variabele|betekenis|\n",
    "|:---|:---|\n",
    "|$$CGTPV_T$$ | De ClaimsGuaranteeTotalPresentValue op einddatum $T$ na verzekeringstechnische correctie|"
   ]
  },
  {
   "cell_type": "markdown",
   "id": "125281db",
   "metadata": {},
   "source": [
    "Ook de waarde van de garantieclaim bij aanvang (net presentvalue) kan berekend worden. De kolom ClaimsGuaranteeTotalPresentValue_calc_calc wordt toegevoegd aan het dataframe."
   ]
  },
  {
   "cell_type": "code",
   "execution_count": null,
   "id": "b8e2092d",
   "metadata": {},
   "outputs": [],
   "source": [
    "df_records['ClaimsGuaranteeTotalPresentValue_calc_calc'] = df_records['ClaimsGuaranteeTotalCashFlow_calc'] / (1+ df_records['returnsStress'])**(df_records['POLICYENDMONTH']/12)\n",
    "df_records"
   ]
  },
  {
   "cell_type": "markdown",
   "id": "5b901361",
   "metadata": {},
   "source": [
    "## Controle berekeningen\n",
    "Merk op dat controles alleen kunnen worden gedaan indien de ingelezen \"stress\" curve gelijk is aan de basis curve, i.e. swap.zero.va.sw360 !!!"
   ]
  },
  {
   "cell_type": "code",
   "execution_count": null,
   "id": "b20b4ff0",
   "metadata": {},
   "outputs": [],
   "source": [
    "if factorEquityShock !=1 or factorRealEstateShock !=1 or factorInterestRateShock != 1:\n",
    "    warnings.warn(\"DE 'STRESS' RENTECURVE IS NIET GELIJK AAN DE BASISCURVE!!! DE CONTROLES GEVEN MOGELIJK AFWIJKENDE RESULTATEN\")"
   ]
  },
  {
   "cell_type": "markdown",
   "id": "b5c6211d",
   "metadata": {},
   "source": [
    "### Controle 1\n",
    "Om te controleren of de berekening van de ClaimsGuaranteeTotalCashFlow_calc goed is gegaan, vergelijken we deze waarde met de waarde die door Gamma in de dataset is meegegeven, nl ClaimsGuaranteeTotalCashFlow. Deze betreffende kolom staat in de dataframe df, die bestaat uit allemaal nullen, behalve op 1 maand na de einddatum"
   ]
  },
  {
   "cell_type": "code",
   "execution_count": null,
   "id": "af513ed6",
   "metadata": {},
   "outputs": [],
   "source": [
    "df_controle1 = df[['ReportingGroup', 'ClaimsGuaranteeTotalCashFlow']]\n",
    "df_controle1 = df_controle1.groupby('ReportingGroup').sum()\n",
    "df_controle1"
   ]
  },
  {
   "cell_type": "code",
   "execution_count": null,
   "id": "733152fa",
   "metadata": {},
   "outputs": [],
   "source": [
    "df_records = pd.merge(df_records, df_controle1, how='left',  left_on = ['REPORTINGGROUP'], right_on = ['ReportingGroup'])\n",
    "df_records"
   ]
  },
  {
   "cell_type": "code",
   "execution_count": null,
   "id": "6857e5ac",
   "metadata": {
    "scrolled": true
   },
   "outputs": [],
   "source": [
    "lineStart = df_records['ClaimsGuaranteeTotalCashFlow'].min() \n",
    "lineEnd = df_records['ClaimsGuaranteeTotalCashFlow'].max()\n",
    "#plt.figure(figsize=(15,10))\n",
    "plt.plot([lineStart, lineEnd], [lineStart, lineEnd], color = 'b')\n",
    "plt.scatter(df_records['ClaimsGuaranteeTotalCashFlow'], df_records['ClaimsGuaranteeTotalCashFlow_calc'], color = 'k', alpha=0.5)\n",
    "plt.title('controle 1: ClaimsGuaranteeTotalCashFlow')\n",
    "plt.xlabel('Gamma')\n",
    "plt.ylabel('Python')\n",
    "plt.show"
   ]
  },
  {
   "cell_type": "markdown",
   "id": "c6368332",
   "metadata": {},
   "source": [
    "### Controle 2\n",
    "Deze controle bekijkt of de berekende ClaimsGuaranteeTotalPresentValue_calc_calc overeen komt met de opgegeven waarden door SSC, namelijk ClaimsGuaranteeTotalPresentValue. \n",
    "\n",
    "Niet alleen kunnen we de eigen berekeningen verifiëren, maar ook of de berekeningen binnen Gamma consistent zijn. De verdisconteerde waarde van de door SSC opgegegen ClaimsGuaranteeTotalCashFlow, zou moeten overeen komen met de ClaimsGuaranteeTotalPresentValue. De zelf berekende contante waarde van ClaimsGuaranteeTotalCashFlow, noemen we ClaimsGuaranteeTotalPresentValue_calc.\n",
    "\n",
    "De berekende waarden ClaimsGuaranteeTotalPresentValue_calc_calc en ClaimsGuaranteeTotalPresentValue_calc kunnen worden vergeleken met de opgegeven waarde uit Gamma, i.e. ClaimsGuaranteeTotalPresentalue."
   ]
  },
  {
   "cell_type": "markdown",
   "id": "d49df354",
   "metadata": {},
   "source": [
    "Eerst wordt ClaimsGuaranteeTotalPresentValue_calc berekend en toegevoegd aan het dataframe records."
   ]
  },
  {
   "cell_type": "code",
   "execution_count": null,
   "id": "77563d86",
   "metadata": {},
   "outputs": [],
   "source": [
    "df_records['ClaimsGuaranteeTotalPresentValue_calc'] = df_records['ClaimsGuaranteeTotalCashFlow'] / (1+ df_records['returnsStress'])**(df_records['POLICYENDMONTH']/12)"
   ]
  },
  {
   "cell_type": "markdown",
   "id": "8ac4b9da",
   "metadata": {},
   "source": [
    "Hierna wordt de ClaimsGuaranteeTotalPresentValue op t=0 opgehaald uit de Gamma data"
   ]
  },
  {
   "cell_type": "code",
   "execution_count": null,
   "id": "f40a26b0",
   "metadata": {},
   "outputs": [],
   "source": [
    "df_controle2 = df.loc[df['Timestep'] == 0,['ReportingGroup', 'ClaimsGuaranteeTotalPresentValue']]\n",
    "df_controle2 "
   ]
  },
  {
   "cell_type": "raw",
   "id": "cdd49efe",
   "metadata": {},
   "source": [
    "Voor de zekerheid mergen met records zodat we zeker weten dat we de juiste kolommen met elkaar vergelijken"
   ]
  },
  {
   "cell_type": "code",
   "execution_count": null,
   "id": "3615ecde",
   "metadata": {},
   "outputs": [],
   "source": [
    "df_records = pd.merge(df_records, df_controle2, how='left',  left_on = ['REPORTINGGROUP'], right_on = ['ReportingGroup'])\n",
    "df_controle2 = df_records[['ReportingGroup', 'ClaimsGuaranteeTotalPresentValue', 'ClaimsGuaranteeTotalPresentValue_calc', 'ClaimsGuaranteeTotalPresentValue_calc_calc']] \n",
    "df_controle2"
   ]
  },
  {
   "cell_type": "markdown",
   "id": "b0147254",
   "metadata": {},
   "source": [
    "### Controle 3\n",
    "We kunnen ook controleren of de ReserveGrossUnitLinked correct is berekend. Hiervoor levert Gamma namelijk ook data. Dit betreft niet alleen data op einddatum, maar alle maanden. De ReserveGrossUnitLinked is vóór de correctie voor mensaantallen en laat zich als volgt berekenen:"
   ]
  },
  {
   "cell_type": "markdown",
   "id": "8f0cb0f2",
   "metadata": {},
   "source": [
    "Eerst wordt de ReserveGrossUnitLinked_calc berekend mbv de dataframe df."
   ]
  },
  {
   "cell_type": "code",
   "execution_count": null,
   "id": "8412f00b",
   "metadata": {},
   "outputs": [],
   "source": [
    "df['ReserveGrossUnitLinked_calc'] = df['FundValuePP']*df['NumberOfPoliciesPremiumPaying'] \\\n",
    "+ df['FundValuePE']*df['NumberOfPoliciesPremiumEnded'] \\\n",
    "+ df['FundValuePU']*df['NumberOfPoliciesPaidUp']\n",
    "df['ReserveGrossUnitLinked_calc']"
   ]
  },
  {
   "cell_type": "markdown",
   "id": "db369446",
   "metadata": {},
   "source": [
    "Merk op dat de betreffende waarden in Gamma 1 maand verschoven lijken te zijn. Daarvoor wordt nog een correctie gedaan (shift)"
   ]
  },
  {
   "cell_type": "code",
   "execution_count": null,
   "id": "9735d212",
   "metadata": {
    "scrolled": true
   },
   "outputs": [],
   "source": [
    "df['ReserveGrossUnitLinked']=df['ReserveGrossUnitLinked'].shift(-1)\n",
    "df['ReserveGrossUnitLinked'] = np.where(df['Timestep'] == 1201, 0, df['ReserveGrossUnitLinked'])\n",
    "df\n"
   ]
  },
  {
   "cell_type": "code",
   "execution_count": null,
   "id": "c1c92dce",
   "metadata": {},
   "outputs": [],
   "source": [
    "lineStart = df['ReserveGrossUnitLinked'].min() \n",
    "lineEnd = df['ReserveGrossUnitLinked'].max()\n",
    "#plt.figure(figsize=(15,10))\n",
    "plt.plot([lineStart, lineEnd], [lineStart, lineEnd], color = 'b')\n",
    "plt.scatter(df['ReserveGrossUnitLinked'], df['ReserveGrossUnitLinked_calc'], color = 'k', alpha=0.5)\n",
    "plt.title('controle 2: ReserveGrossUnitLinked')\n",
    "plt.xlabel('Gamma')\n",
    "plt.ylabel('Python')\n",
    "plt.show"
   ]
  },
  {
   "cell_type": "code",
   "execution_count": null,
   "id": "fdf95d08",
   "metadata": {},
   "outputs": [],
   "source": []
  }
 ],
 "metadata": {
  "hide_input": false,
  "kernelspec": {
   "display_name": "Python 3 (ipykernel)",
   "language": "python",
   "name": "python3"
  },
  "language_info": {
   "codemirror_mode": {
    "name": "ipython",
    "version": 3
   },
   "file_extension": ".py",
   "mimetype": "text/x-python",
   "name": "python",
   "nbconvert_exporter": "python",
   "pygments_lexer": "ipython3",
   "version": "3.10.2"
  },
  "toc": {
   "base_numbering": 1,
   "nav_menu": {},
   "number_sections": true,
   "sideBar": true,
   "skip_h1_title": true,
   "title_cell": "Table of Contents",
   "title_sidebar": "Contents",
   "toc_cell": true,
   "toc_position": {},
   "toc_section_display": true,
   "toc_window_display": true
  }
 },
 "nbformat": 4,
 "nbformat_minor": 5
}
